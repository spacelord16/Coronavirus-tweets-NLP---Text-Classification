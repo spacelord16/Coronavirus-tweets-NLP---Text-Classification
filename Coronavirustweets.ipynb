{
  "nbformat": 4,
  "nbformat_minor": 0,
  "metadata": {
    "colab": {
      "name": "Coronavirustweets.ipynb",
      "provenance": [],
      "collapsed_sections": []
    },
    "kernelspec": {
      "name": "python3",
      "display_name": "Python 3"
    },
    "language_info": {
      "name": "python"
    }
  },
  "cells": [
    {
      "cell_type": "code",
      "metadata": {
        "id": "sMvGOVKQA-na"
      },
      "source": [
        "#importlibraries\n",
        "\n",
        "import numpy as np # linear algebra\n",
        "import pandas as pd # data processing, CSV file I/O (e.g. pd.read_csv)\n",
        "import matplotlib.pyplot as plt"
      ],
      "execution_count": 1,
      "outputs": []
    },
    {
      "cell_type": "code",
      "metadata": {
        "colab": {
          "base_uri": "https://localhost:8080/"
        },
        "id": "zP-I21btF5xF",
        "outputId": "be94b5f7-f2c8-4c8f-d3b1-fcff7e3187f4"
      },
      "source": [
        "from google.colab import drive\n",
        "drive.mount ('/gdrive')"
      ],
      "execution_count": 2,
      "outputs": [
        {
          "output_type": "stream",
          "text": [
            "Mounted at /gdrive\n"
          ],
          "name": "stdout"
        }
      ]
    },
    {
      "cell_type": "code",
      "metadata": {
        "id": "8g0-T9fuF6qW"
      },
      "source": [
        "import os \n",
        "os.chdir('/gdrive/My Drive/')\n",
        "# for dirname, _, filenames in os.walk('/gdrive/My Drive/'):\n",
        "#     for filename in filenames:\n",
        "#         print(os.path.join(dirname, filename))\n"
      ],
      "execution_count": 3,
      "outputs": []
    },
    {
      "cell_type": "code",
      "metadata": {
        "colab": {
          "base_uri": "https://localhost:8080/",
          "height": 203
        },
        "id": "yF3UOryRCi_-",
        "outputId": "1ff1184a-59be-4f5d-8154-f41f2e30afe5"
      },
      "source": [
        "#import datasets\n",
        "# data = pd.read_csv(\"CovidProject/Corona_NLP_train.csv\", sep=';', encoding = \"ISO-8859-1\",error_bad_lines=False)\n",
        "# test = pd.read_csv(\"CovidProject/Corona_NLP_test.csv\", sep=';', encoding = \"ISO-8859-1\",error_bad_lines=False)\n",
        "data_train=pd.read_csv('CovidProject/Corona_NLP_train.csv',encoding='latin1')\n",
        "data_test=pd.read_csv('CovidProject/Corona_NLP_test.csv',encoding='latin1')\n",
        "data_train.head()"
      ],
      "execution_count": 4,
      "outputs": [
        {
          "output_type": "execute_result",
          "data": {
            "text/html": [
              "<div>\n",
              "<style scoped>\n",
              "    .dataframe tbody tr th:only-of-type {\n",
              "        vertical-align: middle;\n",
              "    }\n",
              "\n",
              "    .dataframe tbody tr th {\n",
              "        vertical-align: top;\n",
              "    }\n",
              "\n",
              "    .dataframe thead th {\n",
              "        text-align: right;\n",
              "    }\n",
              "</style>\n",
              "<table border=\"1\" class=\"dataframe\">\n",
              "  <thead>\n",
              "    <tr style=\"text-align: right;\">\n",
              "      <th></th>\n",
              "      <th>UserName</th>\n",
              "      <th>ScreenName</th>\n",
              "      <th>Location</th>\n",
              "      <th>TweetAt</th>\n",
              "      <th>OriginalTweet</th>\n",
              "      <th>Sentiment</th>\n",
              "    </tr>\n",
              "  </thead>\n",
              "  <tbody>\n",
              "    <tr>\n",
              "      <th>0</th>\n",
              "      <td>3799</td>\n",
              "      <td>48751</td>\n",
              "      <td>London</td>\n",
              "      <td>16-03-2020</td>\n",
              "      <td>@MeNyrbie @Phil_Gahan @Chrisitv https://t.co/i...</td>\n",
              "      <td>Neutral</td>\n",
              "    </tr>\n",
              "    <tr>\n",
              "      <th>1</th>\n",
              "      <td>3800</td>\n",
              "      <td>48752</td>\n",
              "      <td>UK</td>\n",
              "      <td>16-03-2020</td>\n",
              "      <td>advice Talk to your neighbours family to excha...</td>\n",
              "      <td>Positive</td>\n",
              "    </tr>\n",
              "    <tr>\n",
              "      <th>2</th>\n",
              "      <td>3801</td>\n",
              "      <td>48753</td>\n",
              "      <td>Vagabonds</td>\n",
              "      <td>16-03-2020</td>\n",
              "      <td>Coronavirus Australia: Woolworths to give elde...</td>\n",
              "      <td>Positive</td>\n",
              "    </tr>\n",
              "    <tr>\n",
              "      <th>3</th>\n",
              "      <td>3802</td>\n",
              "      <td>48754</td>\n",
              "      <td>NaN</td>\n",
              "      <td>16-03-2020</td>\n",
              "      <td>My food stock is not the only one which is emp...</td>\n",
              "      <td>Positive</td>\n",
              "    </tr>\n",
              "    <tr>\n",
              "      <th>4</th>\n",
              "      <td>3803</td>\n",
              "      <td>48755</td>\n",
              "      <td>NaN</td>\n",
              "      <td>16-03-2020</td>\n",
              "      <td>Me, ready to go at supermarket during the #COV...</td>\n",
              "      <td>Extremely Negative</td>\n",
              "    </tr>\n",
              "  </tbody>\n",
              "</table>\n",
              "</div>"
            ],
            "text/plain": [
              "   UserName  ...           Sentiment\n",
              "0      3799  ...             Neutral\n",
              "1      3800  ...            Positive\n",
              "2      3801  ...            Positive\n",
              "3      3802  ...            Positive\n",
              "4      3803  ...  Extremely Negative\n",
              "\n",
              "[5 rows x 6 columns]"
            ]
          },
          "metadata": {},
          "execution_count": 4
        }
      ]
    },
    {
      "cell_type": "code",
      "metadata": {
        "id": "Z5EC63ogFg-s",
        "colab": {
          "base_uri": "https://localhost:8080/",
          "height": 287
        },
        "outputId": "a5a1b145-241e-48f2-c592-ec3efc341168"
      },
      "source": [
        "data_test.head()"
      ],
      "execution_count": 5,
      "outputs": [
        {
          "output_type": "execute_result",
          "data": {
            "text/html": [
              "<div>\n",
              "<style scoped>\n",
              "    .dataframe tbody tr th:only-of-type {\n",
              "        vertical-align: middle;\n",
              "    }\n",
              "\n",
              "    .dataframe tbody tr th {\n",
              "        vertical-align: top;\n",
              "    }\n",
              "\n",
              "    .dataframe thead th {\n",
              "        text-align: right;\n",
              "    }\n",
              "</style>\n",
              "<table border=\"1\" class=\"dataframe\">\n",
              "  <thead>\n",
              "    <tr style=\"text-align: right;\">\n",
              "      <th></th>\n",
              "      <th>UserName</th>\n",
              "      <th>ScreenName</th>\n",
              "      <th>Location</th>\n",
              "      <th>TweetAt</th>\n",
              "      <th>OriginalTweet</th>\n",
              "      <th>Sentiment</th>\n",
              "    </tr>\n",
              "  </thead>\n",
              "  <tbody>\n",
              "    <tr>\n",
              "      <th>0</th>\n",
              "      <td>1</td>\n",
              "      <td>44953</td>\n",
              "      <td>NYC</td>\n",
              "      <td>02-03-2020</td>\n",
              "      <td>TRENDING: New Yorkers encounter empty supermar...</td>\n",
              "      <td>Extremely Negative</td>\n",
              "    </tr>\n",
              "    <tr>\n",
              "      <th>1</th>\n",
              "      <td>2</td>\n",
              "      <td>44954</td>\n",
              "      <td>Seattle, WA</td>\n",
              "      <td>02-03-2020</td>\n",
              "      <td>When I couldn't find hand sanitizer at Fred Me...</td>\n",
              "      <td>Positive</td>\n",
              "    </tr>\n",
              "    <tr>\n",
              "      <th>2</th>\n",
              "      <td>3</td>\n",
              "      <td>44955</td>\n",
              "      <td>NaN</td>\n",
              "      <td>02-03-2020</td>\n",
              "      <td>Find out how you can protect yourself and love...</td>\n",
              "      <td>Extremely Positive</td>\n",
              "    </tr>\n",
              "    <tr>\n",
              "      <th>3</th>\n",
              "      <td>4</td>\n",
              "      <td>44956</td>\n",
              "      <td>Chicagoland</td>\n",
              "      <td>02-03-2020</td>\n",
              "      <td>#Panic buying hits #NewYork City as anxious sh...</td>\n",
              "      <td>Negative</td>\n",
              "    </tr>\n",
              "    <tr>\n",
              "      <th>4</th>\n",
              "      <td>5</td>\n",
              "      <td>44957</td>\n",
              "      <td>Melbourne, Victoria</td>\n",
              "      <td>03-03-2020</td>\n",
              "      <td>#toiletpaper #dunnypaper #coronavirus #coronav...</td>\n",
              "      <td>Neutral</td>\n",
              "    </tr>\n",
              "  </tbody>\n",
              "</table>\n",
              "</div>"
            ],
            "text/plain": [
              "   UserName  ...           Sentiment\n",
              "0         1  ...  Extremely Negative\n",
              "1         2  ...            Positive\n",
              "2         3  ...  Extremely Positive\n",
              "3         4  ...            Negative\n",
              "4         5  ...             Neutral\n",
              "\n",
              "[5 rows x 6 columns]"
            ]
          },
          "metadata": {},
          "execution_count": 5
        }
      ]
    },
    {
      "cell_type": "code",
      "metadata": {
        "colab": {
          "base_uri": "https://localhost:8080/"
        },
        "id": "0pIregFSKbmN",
        "outputId": "41cbf9e5-44ee-4840-ec1a-71e77467266b"
      },
      "source": [
        "print(data_train['Sentiment'].unique())"
      ],
      "execution_count": 6,
      "outputs": [
        {
          "output_type": "stream",
          "text": [
            "['Neutral' 'Positive' 'Extremely Negative' 'Negative' 'Extremely Positive']\n"
          ],
          "name": "stdout"
        }
      ]
    },
    {
      "cell_type": "code",
      "metadata": {
        "id": "neMB_357KnZo",
        "colab": {
          "base_uri": "https://localhost:8080/"
        },
        "outputId": "79805d4c-d715-4dee-e886-ab79adddd0fb"
      },
      "source": [
        "for i in range(0,len(data_train)):\n",
        "    if(data_train['Sentiment'][i]=='Extremely Negative'):\n",
        "        data_train['Sentiment'][i]='Negative'\n",
        "    elif(data_train['Sentiment'][i]=='Extremely Positive'):\n",
        "        data_train['Sentiment'][i]='Positive'"
      ],
      "execution_count": 7,
      "outputs": [
        {
          "output_type": "stream",
          "text": [
            "/usr/local/lib/python3.7/dist-packages/ipykernel_launcher.py:3: SettingWithCopyWarning: \n",
            "A value is trying to be set on a copy of a slice from a DataFrame\n",
            "\n",
            "See the caveats in the documentation: https://pandas.pydata.org/pandas-docs/stable/user_guide/indexing.html#returning-a-view-versus-a-copy\n",
            "  This is separate from the ipykernel package so we can avoid doing imports until\n",
            "/usr/local/lib/python3.7/dist-packages/ipykernel_launcher.py:5: SettingWithCopyWarning: \n",
            "A value is trying to be set on a copy of a slice from a DataFrame\n",
            "\n",
            "See the caveats in the documentation: https://pandas.pydata.org/pandas-docs/stable/user_guide/indexing.html#returning-a-view-versus-a-copy\n",
            "  \"\"\"\n"
          ],
          "name": "stderr"
        }
      ]
    },
    {
      "cell_type": "code",
      "metadata": {
        "colab": {
          "base_uri": "https://localhost:8080/"
        },
        "id": "8gfgN7WCKwgE",
        "outputId": "f673993e-fc49-46aa-ca9b-e6b0ddcbee82"
      },
      "source": [
        "print(data_train['Sentiment'].unique())"
      ],
      "execution_count": 8,
      "outputs": [
        {
          "output_type": "stream",
          "text": [
            "['Neutral' 'Positive' 'Negative']\n"
          ],
          "name": "stdout"
        }
      ]
    },
    {
      "cell_type": "code",
      "metadata": {
        "colab": {
          "base_uri": "https://localhost:8080/"
        },
        "id": "6W52JJ6yK0x8",
        "outputId": "77f9374b-273e-4c96-ba85-c6650c460b22"
      },
      "source": [
        "data_train['Sentiment'].isna().sum()\n"
      ],
      "execution_count": 9,
      "outputs": [
        {
          "output_type": "execute_result",
          "data": {
            "text/plain": [
              "0"
            ]
          },
          "metadata": {},
          "execution_count": 9
        }
      ]
    },
    {
      "cell_type": "code",
      "metadata": {
        "id": "s_aSASSDkTqO"
      },
      "source": [
        "from sklearn.preprocessing import LabelEncoder"
      ],
      "execution_count": 10,
      "outputs": []
    },
    {
      "cell_type": "code",
      "metadata": {
        "id": "0u9OmATTkvci"
      },
      "source": [
        "le=LabelEncoder()"
      ],
      "execution_count": 11,
      "outputs": []
    },
    {
      "cell_type": "code",
      "metadata": {
        "id": "6ls4KtUkkxn6"
      },
      "source": [
        "data_train['Sentiment']=le.fit_transform(data_train['Sentiment'])"
      ],
      "execution_count": 12,
      "outputs": []
    },
    {
      "cell_type": "code",
      "metadata": {
        "id": "MRbtxb1Nkx6j"
      },
      "source": [
        "y=pd.get_dummies(data_train['Sentiment'])"
      ],
      "execution_count": 13,
      "outputs": []
    },
    {
      "cell_type": "code",
      "metadata": {
        "colab": {
          "base_uri": "https://localhost:8080/",
          "height": 203
        },
        "id": "pKebXVIYk3QT",
        "outputId": "b2a935f1-c46a-4e9c-8508-fed4d3ed2dca"
      },
      "source": [
        "data_train.head()"
      ],
      "execution_count": 14,
      "outputs": [
        {
          "output_type": "execute_result",
          "data": {
            "text/html": [
              "<div>\n",
              "<style scoped>\n",
              "    .dataframe tbody tr th:only-of-type {\n",
              "        vertical-align: middle;\n",
              "    }\n",
              "\n",
              "    .dataframe tbody tr th {\n",
              "        vertical-align: top;\n",
              "    }\n",
              "\n",
              "    .dataframe thead th {\n",
              "        text-align: right;\n",
              "    }\n",
              "</style>\n",
              "<table border=\"1\" class=\"dataframe\">\n",
              "  <thead>\n",
              "    <tr style=\"text-align: right;\">\n",
              "      <th></th>\n",
              "      <th>UserName</th>\n",
              "      <th>ScreenName</th>\n",
              "      <th>Location</th>\n",
              "      <th>TweetAt</th>\n",
              "      <th>OriginalTweet</th>\n",
              "      <th>Sentiment</th>\n",
              "    </tr>\n",
              "  </thead>\n",
              "  <tbody>\n",
              "    <tr>\n",
              "      <th>0</th>\n",
              "      <td>3799</td>\n",
              "      <td>48751</td>\n",
              "      <td>London</td>\n",
              "      <td>16-03-2020</td>\n",
              "      <td>@MeNyrbie @Phil_Gahan @Chrisitv https://t.co/i...</td>\n",
              "      <td>1</td>\n",
              "    </tr>\n",
              "    <tr>\n",
              "      <th>1</th>\n",
              "      <td>3800</td>\n",
              "      <td>48752</td>\n",
              "      <td>UK</td>\n",
              "      <td>16-03-2020</td>\n",
              "      <td>advice Talk to your neighbours family to excha...</td>\n",
              "      <td>2</td>\n",
              "    </tr>\n",
              "    <tr>\n",
              "      <th>2</th>\n",
              "      <td>3801</td>\n",
              "      <td>48753</td>\n",
              "      <td>Vagabonds</td>\n",
              "      <td>16-03-2020</td>\n",
              "      <td>Coronavirus Australia: Woolworths to give elde...</td>\n",
              "      <td>2</td>\n",
              "    </tr>\n",
              "    <tr>\n",
              "      <th>3</th>\n",
              "      <td>3802</td>\n",
              "      <td>48754</td>\n",
              "      <td>NaN</td>\n",
              "      <td>16-03-2020</td>\n",
              "      <td>My food stock is not the only one which is emp...</td>\n",
              "      <td>2</td>\n",
              "    </tr>\n",
              "    <tr>\n",
              "      <th>4</th>\n",
              "      <td>3803</td>\n",
              "      <td>48755</td>\n",
              "      <td>NaN</td>\n",
              "      <td>16-03-2020</td>\n",
              "      <td>Me, ready to go at supermarket during the #COV...</td>\n",
              "      <td>0</td>\n",
              "    </tr>\n",
              "  </tbody>\n",
              "</table>\n",
              "</div>"
            ],
            "text/plain": [
              "   UserName  ...  Sentiment\n",
              "0      3799  ...          1\n",
              "1      3800  ...          2\n",
              "2      3801  ...          2\n",
              "3      3802  ...          2\n",
              "4      3803  ...          0\n",
              "\n",
              "[5 rows x 6 columns]"
            ]
          },
          "metadata": {},
          "execution_count": 14
        }
      ]
    },
    {
      "cell_type": "code",
      "metadata": {
        "colab": {
          "base_uri": "https://localhost:8080/"
        },
        "id": "hAn9q5EmlNJi",
        "outputId": "55761f09-1f31-488f-b892-eb9f8dea2cf4"
      },
      "source": [
        "print(le.inverse_transform([0,1,2]))"
      ],
      "execution_count": 15,
      "outputs": [
        {
          "output_type": "stream",
          "text": [
            "['Negative' 'Neutral' 'Positive']\n"
          ],
          "name": "stdout"
        }
      ]
    },
    {
      "cell_type": "code",
      "metadata": {
        "id": "5wqSLAlHlYRB"
      },
      "source": [
        "n=0\n",
        "ne=0\n",
        "p=0"
      ],
      "execution_count": 16,
      "outputs": []
    },
    {
      "cell_type": "code",
      "metadata": {
        "id": "n6PTscfrlaq7"
      },
      "source": [
        "for i in range(0,len(data_train)):\n",
        "    if(data_train['Sentiment'][i]==0):\n",
        "        n=n+1\n",
        "    elif(data_train['Sentiment'][i]==1):\n",
        "        ne=ne+1\n",
        "    elif(data_train['Sentiment'][i]==2):\n",
        "        p=p+1"
      ],
      "execution_count": 17,
      "outputs": []
    },
    {
      "cell_type": "code",
      "metadata": {
        "colab": {
          "base_uri": "https://localhost:8080/"
        },
        "id": "Z8PDJ_EMl7mB",
        "outputId": "940402be-463b-4d41-cc26-32f3fc0d57cc"
      },
      "source": [
        "print('Total Labels belonging to Negative Category are ',n)\n",
        "print('Total Labels belonging to Neutral Category are ',ne)\n",
        "print('Total Labels belonging to Positive Category are ',p)"
      ],
      "execution_count": 18,
      "outputs": [
        {
          "output_type": "stream",
          "text": [
            "Total Labels belonging to Negative Category are  15398\n",
            "Total Labels belonging to Neutral Category are  7713\n",
            "Total Labels belonging to Positive Category are  18046\n"
          ],
          "name": "stdout"
        }
      ]
    },
    {
      "cell_type": "code",
      "metadata": {
        "colab": {
          "base_uri": "https://localhost:8080/"
        },
        "id": "AVGYesoAm0jp",
        "outputId": "bc7ae5f8-8e68-48dc-9315-328a27a75c09"
      },
      "source": [
        "print('Total entries in the train dataset is ',len(data_train))"
      ],
      "execution_count": 19,
      "outputs": [
        {
          "output_type": "stream",
          "text": [
            "Total entries in the train dataset is  41157\n"
          ],
          "name": "stdout"
        }
      ]
    },
    {
      "cell_type": "code",
      "metadata": {
        "id": "vdMK1Y9Hm24r"
      },
      "source": [
        "##Segregating the tweet class from their original dataset\n",
        "X=data_train.iloc[:,4]"
      ],
      "execution_count": 20,
      "outputs": []
    },
    {
      "cell_type": "code",
      "metadata": {
        "id": "pMZt3jXLm5is"
      },
      "source": [
        "from sklearn.model_selection import train_test_split\n",
        "train_text,validation_text,train_labels,validation_labels=train_test_split(X.to_numpy(),y.to_numpy(),test_size=0.2,random_state=42)"
      ],
      "execution_count": 21,
      "outputs": []
    },
    {
      "cell_type": "code",
      "metadata": {
        "colab": {
          "base_uri": "https://localhost:8080/"
        },
        "id": "kyTJV4J6nA66",
        "outputId": "fe78a10e-5c39-4463-9d4e-35ba8ecbd90c"
      },
      "source": [
        "##printing validation labels to check if they are in one hot encoded form or not\n",
        "validation_labels"
      ],
      "execution_count": 22,
      "outputs": [
        {
          "output_type": "execute_result",
          "data": {
            "text/plain": [
              "array([[0, 1, 0],\n",
              "       [1, 0, 0],\n",
              "       [0, 0, 1],\n",
              "       ...,\n",
              "       [1, 0, 0],\n",
              "       [0, 1, 0],\n",
              "       [1, 0, 0]], dtype=uint8)"
            ]
          },
          "metadata": {},
          "execution_count": 22
        }
      ]
    },
    {
      "cell_type": "code",
      "metadata": {
        "colab": {
          "base_uri": "https://localhost:8080/"
        },
        "id": "hyCBJ9HNnDF_",
        "outputId": "733694b2-d710-4159-a6cb-0eb047c0dcd9"
      },
      "source": [
        "type(train_text)"
      ],
      "execution_count": 23,
      "outputs": [
        {
          "output_type": "execute_result",
          "data": {
            "text/plain": [
              "numpy.ndarray"
            ]
          },
          "metadata": {},
          "execution_count": 23
        }
      ]
    },
    {
      "cell_type": "code",
      "metadata": {
        "id": "MavziD5EnFWr"
      },
      "source": [
        "import re\n",
        "import string"
      ],
      "execution_count": 24,
      "outputs": []
    },
    {
      "cell_type": "code",
      "metadata": {
        "id": "9m3RdyK2nGP_"
      },
      "source": [
        "for i in range(0,len(train_text)):\n",
        "    temp=train_text[i]\n",
        "    temp=re.sub(\"@\\S+\", \" \", temp)\n",
        "    temp=re.sub(\"https*\\S+\", \" \", temp)\n",
        "    temp=re.sub(\"#\\S+\", \" \", temp)\n",
        "    temp=re.sub(\"\\'\\w+\", '', temp)\n",
        "    temp=re.sub('[%s]' % re.escape(string.punctuation), ' ', temp)\n",
        "    temp=re.sub(r'\\w*\\d+\\w*', '', temp)\n",
        "    temp=re.sub('\\s{2,}', \" \", temp)\n",
        "    train_text[i]=temp\n",
        "    ##print(temp)"
      ],
      "execution_count": 25,
      "outputs": []
    },
    {
      "cell_type": "code",
      "metadata": {
        "id": "NwqKqPa1nPZg"
      },
      "source": [
        "for i in range(0,len(validation_text)):\n",
        "    temp=validation_text[i]\n",
        "    temp=re.sub(\"@\\S+\", \" \", temp)\n",
        "    temp=re.sub(\"https*\\S+\", \" \", temp)\n",
        "    temp=re.sub(\"#\\S+\", \" \", temp)\n",
        "    temp=re.sub(\"\\'\\w+\", '', temp)\n",
        "    temp=re.sub('[%s]' % re.escape(string.punctuation), ' ', temp)\n",
        "    temp=re.sub(r'\\w*\\d+\\w*', '', temp)\n",
        "    temp=re.sub('\\s{2,}', \" \", temp)\n",
        "    validation_text[i]=temp\n",
        "    ##print(temp)"
      ],
      "execution_count": 26,
      "outputs": []
    },
    {
      "cell_type": "code",
      "metadata": {
        "id": "sT3hEubLnT-C"
      },
      "source": [
        "import random"
      ],
      "execution_count": 27,
      "outputs": []
    },
    {
      "cell_type": "code",
      "metadata": {
        "colab": {
          "base_uri": "https://localhost:8080/"
        },
        "id": "5FGL9qTpnU_h",
        "outputId": "74ce51e5-b61e-4932-81a5-e0e114042407"
      },
      "source": [
        "for i in range(0,10):\n",
        "    print('New Tweet')\n",
        "    print('***********')\n",
        "    random_number=random.randint(0,len(train_text)-1)\n",
        "    print(train_text[random_number])"
      ],
      "execution_count": 28,
      "outputs": [
        {
          "output_type": "stream",
          "text": [
            "New Tweet\n",
            "***********\n",
            "The global market is experiencing unimaginable turmoil oil prices have collapsed to near year lows as COVID lockdowns have cascaded through the global economy Where does this leave investors Click for analysis from MUFG s\n",
            "New Tweet\n",
            "***********\n",
            "Yesterday released fiscal stimulus proposals putting during the epidemic It includes At least month for all adults amp child Suspension of consumer credit reporting More details Check below \n",
            "New Tweet\n",
            "***********\n",
            " went from hundreds to thousands of cases in a matter of days is now starting to see a significant number of cases of and lockdown increases and \n",
            "New Tweet\n",
            "***********\n",
            "Dilshad Garden s Pocket J amp K where my parents and entire family reside has been sealed While there is a Safal store mother dairy grocery store inside the colony no one has a clue about door step delivery if they won t be allowed to step out \n",
            "New Tweet\n",
            "***********\n",
            "Dominicans fight for plantains at a New York supermarket \n",
            "New Tweet\n",
            "***********\n",
            " Congress asks govt to share profits from low crude oil prices with people \n",
            "New Tweet\n",
            "***********\n",
            "Last week I was at the grocery store and I remember telling the cashier how truly grateful I was for her work When youÂre stocking up or just seeing people make your life easier make sure to say \n",
            "New Tweet\n",
            "***********\n",
            "Nupes pulling up to the grocery store like what it do do Sponsored in part by in conjunction with \n",
            "New Tweet\n",
            "***********\n",
            "Are Âemergency purposesÂ calls and texts subject to Âprior express consentÂ under the Telephone Consumer Protection Act discusses an announcement \n",
            "New Tweet\n",
            "***********\n",
            "Have you started fixing your credit score last year BE READY Real Estate prices will surely drop down due to the COVID if not what are you waiting for Call DM us today dave visit our website \n"
          ],
          "name": "stdout"
        }
      ]
    },
    {
      "cell_type": "code",
      "metadata": {
        "colab": {
          "base_uri": "https://localhost:8080/"
        },
        "id": "Z02zRjiUnZaj",
        "outputId": "4a18436e-228c-4a86-cad6-c6202a427d2f"
      },
      "source": [
        "for i in range(0,10):\n",
        "    print('New Tweet')\n",
        "    print('***********')\n",
        "    random_number=random.randint(0,len(validation_text)-1)\n",
        "    print(validation_text[random_number])"
      ],
      "execution_count": 29,
      "outputs": [
        {
          "output_type": "stream",
          "text": [
            "New Tweet\n",
            "***********\n",
            " Responds to Consumer Reports of Due to \n",
            "New Tweet\n",
            "***********\n",
            "prices have declined by more than since January and benchmark crude still trading under per barrel despite an unprecedented deal by the world s biggest producers to cut output to steady a market pummeled by the\n",
            "New Tweet\n",
            "***********\n",
            "It an humble request to all citizens please stay at home don get panic for Time to show patriotism isn it No one is sending you to the borders so avoid social gathering and stay safe amp have healthy food at home \n",
            "New Tweet\n",
            "***********\n",
            "The most valuable commodity Happy Mothers Day Mum \n",
            "New Tweet\n",
            "***********\n",
            "Went to the grocery store to get food Slim pickings Had to buy these baby apples itÂs like bite of a real apple Gotta ration em out I think \n",
            "New Tweet\n",
            "***********\n",
            "When will the supermarket raiders reach stockpile saturation Are they renting storage units or something Or are they panic using everything theyÂre over stocking to justify being complete shitkickers about stripping shelves \n",
            "New Tweet\n",
            "***********\n",
            " Coronavirus or COVID remains stable and infectious on cardboard and plastic for as long as three days i e hrs Your next super quick courier delivery could be well within CoronavirusÂ window of opportunity to get inside your home and do the damage \n",
            "New Tweet\n",
            "***********\n",
            "No doubt the pandemic is creating challenges for brands in the short term but it also making it crystal clear that understanding consumers is more important than ever We got you covered Check out our blog for the latest \n",
            "New Tweet\n",
            "***********\n",
            " scenario you buy item from grocery store It happens to have a Virused Droplet on it You put item in freezer Two years later you take item droplet melts gets on finger finger goes in nose New Covid case six if have to happen for virus success \n",
            "New Tweet\n",
            "***********\n",
            "Saw these obnoxious Italian tourist FaceTimeing their friends at the supermarket mumbling ÂLook In America thereÂs no more toilet paper HahahaÂ Meanwhile everyone there is looking at them like ÂItalians What you guys doing here Uh ohÂ \n"
          ],
          "name": "stdout"
        }
      ]
    },
    {
      "cell_type": "code",
      "metadata": {
        "colab": {
          "base_uri": "https://localhost:8080/"
        },
        "id": "-Vw2pUySnaxA",
        "outputId": "e20c3d25-1f69-4814-ea0b-76fcc6e0e6e5"
      },
      "source": [
        "type(train_text)"
      ],
      "execution_count": 30,
      "outputs": [
        {
          "output_type": "execute_result",
          "data": {
            "text/plain": [
              "numpy.ndarray"
            ]
          },
          "metadata": {},
          "execution_count": 30
        }
      ]
    },
    {
      "cell_type": "code",
      "metadata": {
        "id": "c61yjY4kndoV"
      },
      "source": [
        "import tensorflow as tf"
      ],
      "execution_count": 31,
      "outputs": []
    },
    {
      "cell_type": "code",
      "metadata": {
        "id": "yscX9THZnhUY"
      },
      "source": [
        "from tensorflow.keras.preprocessing.text import Tokenizer"
      ],
      "execution_count": 32,
      "outputs": []
    },
    {
      "cell_type": "code",
      "metadata": {
        "id": "dPb8ghKYnjdI"
      },
      "source": [
        "sum_length_of_tweet=0"
      ],
      "execution_count": 33,
      "outputs": []
    },
    {
      "cell_type": "code",
      "metadata": {
        "id": "T-1entIMnlNK"
      },
      "source": [
        "##finding the average length of each tweet\n",
        "for i in X:\n",
        "    temp=i\n",
        "    sum_length_of_tweet=sum_length_of_tweet+len(temp.split())"
      ],
      "execution_count": 34,
      "outputs": []
    },
    {
      "cell_type": "code",
      "metadata": {
        "id": "NHC93Dhsnm2N"
      },
      "source": [
        "max_length=round(sum_length_of_tweet/len(X))"
      ],
      "execution_count": 35,
      "outputs": []
    },
    {
      "cell_type": "code",
      "metadata": {
        "colab": {
          "base_uri": "https://localhost:8080/"
        },
        "id": "QgqNZhScnoc5",
        "outputId": "9b7f9865-1ec5-45f0-9fc9-b1b4f3a2d9c2"
      },
      "source": [
        "print(max_length)"
      ],
      "execution_count": 36,
      "outputs": [
        {
          "output_type": "stream",
          "text": [
            "31\n"
          ],
          "name": "stdout"
        }
      ]
    },
    {
      "cell_type": "code",
      "metadata": {
        "id": "5NYD76Uonpye"
      },
      "source": [
        "Tokenizer?"
      ],
      "execution_count": 37,
      "outputs": []
    },
    {
      "cell_type": "code",
      "metadata": {
        "id": "VsLhxwLansGK"
      },
      "source": [
        "tokenizer=Tokenizer(num_words=10000,oov_token='</OOV>')"
      ],
      "execution_count": 38,
      "outputs": []
    },
    {
      "cell_type": "code",
      "metadata": {
        "id": "jSeyGWh6n26L",
        "colab": {
          "base_uri": "https://localhost:8080/"
        },
        "outputId": "621de893-6a3a-451c-c4d2-46ed213185fd"
      },
      "source": [
        "len(tokenizer.word_index)"
      ],
      "execution_count": 39,
      "outputs": [
        {
          "output_type": "execute_result",
          "data": {
            "text/plain": [
              "0"
            ]
          },
          "metadata": {},
          "execution_count": 39
        }
      ]
    },
    {
      "cell_type": "code",
      "metadata": {
        "id": "OY6waK1ln4SS"
      },
      "source": [
        "from tensorflow.keras.preprocessing.sequence import pad_sequences"
      ],
      "execution_count": 40,
      "outputs": []
    },
    {
      "cell_type": "code",
      "metadata": {
        "id": "69Mqf8IY4qO4"
      },
      "source": [
        "tokenizer.fit_on_texts(train_text)"
      ],
      "execution_count": 41,
      "outputs": []
    },
    {
      "cell_type": "code",
      "metadata": {
        "id": "Ctkk5e9w43O7"
      },
      "source": [
        "train_text_sequences=tokenizer.texts_to_sequences(train_text)"
      ],
      "execution_count": 42,
      "outputs": []
    },
    {
      "cell_type": "code",
      "metadata": {
        "id": "Lkq_XeFv59j2"
      },
      "source": [
        "train_text_padded=pad_sequences(train_text_sequences,maxlen=max_length,padding='post')"
      ],
      "execution_count": 43,
      "outputs": []
    },
    {
      "cell_type": "code",
      "metadata": {
        "id": "B4Sa2K_S5fQ6"
      },
      "source": [
        "validation_text_sequences=tokenizer.texts_to_sequences(validation_text)"
      ],
      "execution_count": 44,
      "outputs": []
    },
    {
      "cell_type": "code",
      "metadata": {
        "id": "Okxy_0Ri5iy-"
      },
      "source": [
        "validation_text_padded=pad_sequences(validation_text_sequences,maxlen=max_length,padding='post')"
      ],
      "execution_count": 45,
      "outputs": []
    },
    {
      "cell_type": "code",
      "metadata": {
        "colab": {
          "base_uri": "https://localhost:8080/"
        },
        "id": "-CpfsrQA5kw-",
        "outputId": "a1325e56-6d73-46a3-f312-14cdc2faf155"
      },
      "source": [
        "for i in range(0,10):\n",
        "    index=random.randint(0,len(train_text)-1)\n",
        "    print('Original Sentence')\n",
        "    print('*******')\n",
        "    print(train_text[index])\n",
        "    print('Padded Sentence')\n",
        "    print('*********')\n",
        "    print(train_text_padded[index])"
      ],
      "execution_count": 46,
      "outputs": [
        {
          "output_type": "stream",
          "text": [
            "Original Sentence\n",
            "*******\n",
            "The toilet paper situation in Fully stocked supermarket shelves Just about everyone is wearing masks Temperatures are being checked when you enter closed public spaces Hand sanitiser everywhere Bravo Vietnam \n",
            "Padded Sentence\n",
            "*********\n",
            "[   2  100  104  326    6 1201  495   22  113   63   59  135    9  427\n",
            "  150 3961   10  118 2724   74   13 1044  287  213 3674   82 1168 1193\n",
            " 6424 7012    0]\n",
            "Original Sentence\n",
            "*******\n",
            "really want to order my baby some toys on amazon but this whole COVID got me paranoid \n",
            "Padded Sentence\n",
            "*********\n",
            "[ 227  193    3  225   37 1052   77 3599   14  471   47   15  517   11\n",
            "  198   86 4257    0    0    0    0    0    0    0    0    0    0    0\n",
            "    0    0    0]\n",
            "Original Sentence\n",
            "*******\n",
            "My Supermarket Update \n",
            "Padded Sentence\n",
            "*********\n",
            "[ 37  22 466   0   0   0   0   0   0   0   0   0   0   0   0   0   0   0\n",
            "   0   0   0   0   0   0   0   0   0   0   0   0   0]\n",
            "Original Sentence\n",
            "*******\n",
            "So I just seen talking about investing millions in bringing British staranded abroad back to the Uk but flight prices are thousands and people canÂt afford them so where had you million gone \n",
            "Padded Sentence\n",
            "*********\n",
            "[  63  329  961   59 3595 1002    6 1515 1301    1 5452  172    3    2\n",
            "  263   47 1645   17   10 1035    4   29  333  741   95   54  195  141\n",
            "   13  500  513]\n",
            "Original Sentence\n",
            "*******\n",
            " Information Hub from ccpcireland Information about consumer rights and obligations on businesses in relation to COVID \n",
            "Padded Sentence\n",
            "*********\n",
            "[ 377 2161   30    1  377   59   36 1059    4 5009   14  223    6 4542\n",
            "    3   11    0    0    0    0    0    0    0    0    0    0    0    0\n",
            "    0    0    0]\n",
            "Original Sentence\n",
            "*******\n",
            "The consumer in and in is expected to shrink and contract after the passing of pandemic \n",
            "Padded Sentence\n",
            "*********\n",
            "[   2   36    6    4    6    9  802    3 7001    4 2185   99    2 3075\n",
            "    5   62    0    0    0    0    0    0    0    0    0    0    0    0\n",
            "    0    0    0]\n",
            "Original Sentence\n",
            "*******\n",
            "The Competiscan Insights team just released a study on consumer perceptions regarding COVID Clients can access the full report on \n",
            "Padded Sentence\n",
            "*********\n",
            "[   2    1  874  703   63 1709    7 1266   14   36 6912  938   11 1389\n",
            "   38  444    2  259  282   14    0    0    0    0    0    0    0    0\n",
            "    0    0    0]\n",
            "Original Sentence\n",
            "*******\n",
            "One refreshing change of COVID People at my local supermarket pleasant and chatting to me about the common issue of lack of some items People actually looking up instead of into their phones \n",
            "Padded Sentence\n",
            "*********\n",
            "[ 369    5   11   29   16   37  106   22 4896    4 4591    3   86   59\n",
            "    2 1142  815    5 1120    5   77  180   29  521  338   41  480    5\n",
            "  131   52 3485]\n",
            "Original Sentence\n",
            "*******\n",
            " Morrisons launches a Âhardship fundÂ for staff facing financial difficulty as a result of coronavirus expands its home delivery and creates an extra jobs \n",
            "Padded Sentence\n",
            "*********\n",
            "[2435 2346    7    1    1    8  138  603  387 4459   27    7  530    5\n",
            "   79 4617  132   70  122    4 3888   75  567  418    0    0    0    0\n",
            "    0    0    0]\n",
            "Original Sentence\n",
            "*******\n",
            "Can you help us we re struggling to get our hands on new supplies of sanitizer to keep our volunteers and clients safe on the food bank frontline If you re well stocked please consider donating some to us\n",
            "Padded Sentence\n",
            "*********\n",
            "[  57   40  257   14   91  184    5   80    3  110   40 1133    4 1389\n",
            "  160   14    2   19  363  857   48   13  247  191  495   92  650  924\n",
            "   77    3   72]\n"
          ],
          "name": "stdout"
        }
      ]
    },
    {
      "cell_type": "code",
      "metadata": {
        "colab": {
          "base_uri": "https://localhost:8080/"
        },
        "id": "V5ur_DCG5m4Q",
        "outputId": "07ac5bd1-2713-4412-f9d6-057ab6f7596c"
      },
      "source": [
        "for i in range(0,10):\n",
        "    index=random.randint(0,len(validation_text)-1)\n",
        "    print('Original Sentence')\n",
        "    print('*******')\n",
        "    print(validation_text[index])\n",
        "    print('Padded Sentence')\n",
        "    print('*********')\n",
        "    print(validation_text_padded[index])"
      ],
      "execution_count": 47,
      "outputs": [
        {
          "output_type": "stream",
          "text": [
            "Original Sentence\n",
            "*******\n",
            " prices expected to fall due to \n",
            "Padded Sentence\n",
            "*********\n",
            "[ 17 802   3 428  87   3   0   0   0   0   0   0   0   0   0   0   0   0\n",
            "   0   0   0   0   0   0   0   0   0   0   0   0   0]\n",
            "Original Sentence\n",
            "*******\n",
            "There it is Trump admits he has NOT used the Defense Production Act to get companies to produce the amount of protective equipment American health workers desperately need This is a complete failure of leadership Period \n",
            "Padded Sentence\n",
            "*********\n",
            "[ 167   43   34  440    2 4139  371  683    3   57  226    3  511    2\n",
            "  798    5  997  763  681  148   64 4648   60   15    9    7 1216 3383\n",
            "    5 1885  593]\n",
            "Original Sentence\n",
            "*******\n",
            "Police find stolen tractor trailer full of toilet paper \n",
            "Padded Sentence\n",
            "*********\n",
            "[ 438  188 3616    1    1  259    5  100  104    0    0    0    0    0\n",
            "    0    0    0    0    0    0    0    0    0    0    0    0    0    0\n",
            "    0    0    0]\n",
            "Original Sentence\n",
            "*******\n",
            "Either will kill us or we will starve to death Online shopping in total f ing meltdown as well \n",
            "Padded Sentence\n",
            "*********\n",
            "[1041   35  922   72   44   20   35 2685    3  847   49   50    6 1031\n",
            " 1027 4958 8605   27  191    0    0    0    0    0    0    0    0    0\n",
            "    0    0    0]\n",
            "Original Sentence\n",
            "*******\n",
            "People are dying and folks in are shopping YESTERDAY in without masks and gloves Even the employees are not wearing masks \n",
            "Padded Sentence\n",
            "*********\n",
            "[  29   10 1307    4  706    6   10   50  498    6  284  150    4  262\n",
            "  137    2  175   10   34  427  150    0    0    0    0    0    0    0\n",
            "    0    0    0]\n",
            "Original Sentence\n",
            "*******\n",
            "Milk prices could fall as a result of the putting them close to levels RabobankÂs Tom Bailey discusses how restaurant amp school closures are likely to affect consumption and shares his outlook for with \n",
            "Padded Sentence\n",
            "*********\n",
            "[ 428   27    7  530    5    2  483   95  310    3  977    1 3736    1\n",
            " 2392   51  616   31  736  710   10  474    3 1074 1240    4 1076  243\n",
            " 1774    8   21]\n",
            "Original Sentence\n",
            "*******\n",
            "This is how to do it \n",
            "Padded Sentence\n",
            "*********\n",
            "[15  9 51  3 67 23  0  0  0  0  0  0  0  0  0  0  0  0  0  0  0  0  0  0\n",
            "  0  0  0  0  0  0  0]\n",
            "Original Sentence\n",
            "*******\n",
            "Today at a supermarket we saw people who were wearing masks take off their masks to greet each other with kisses on the cheek why wear the masks in the first place So frustrating that people are being this careless\n",
            "Padded Sentence\n",
            "*********\n",
            "[ 427  150  128  166   52  150    3    1  322   98   21    1   14    2\n",
            "    1  126  485    2  150    6    2  181  312   54 4458   24   29   10\n",
            "  118   15 9133]\n",
            "Original Sentence\n",
            "*******\n",
            "Met a lady today who has loo rolls toothpaste shampoo and bleach bottles Not panic buying she tells me her religion requires her to have this many Is that even a thing \n",
            "Padded Sentence\n",
            "*********\n",
            "[   7 1135  109   61   43 1373  579    1 7344    4 2578 1256   34   65\n",
            "   89  244 1603   86  242 8144 2933  242    3   25   15  116    9   24\n",
            "  137    7  297]\n",
            "Original Sentence\n",
            "*******\n",
            "List Food banks school districts and some local pantries are providing free meals for people and asking for donations and volunteers as they face a significant increase in demand \n",
            "Padded Sentence\n",
            "*********\n",
            "[ 383   19  341  736 8060    4   77  106 1300   10  651  190 1055    8\n",
            "   29    4  725    8  936    4 1133   27   39  196    7 1202  276    6\n",
            "   73    0    0]\n"
          ],
          "name": "stdout"
        }
      ]
    },
    {
      "cell_type": "code",
      "metadata": {
        "colab": {
          "base_uri": "https://localhost:8080/"
        },
        "id": "QaUGFiDI6BXc",
        "outputId": "8865ad63-c097-4511-d370-55a7bbde9ff9"
      },
      "source": [
        "train_text_padded.shape[1]"
      ],
      "execution_count": 48,
      "outputs": [
        {
          "output_type": "execute_result",
          "data": {
            "text/plain": [
              "31"
            ]
          },
          "metadata": {},
          "execution_count": 48
        }
      ]
    },
    {
      "cell_type": "code",
      "metadata": {
        "id": "T2BQq3p66EYu"
      },
      "source": [
        "# model_1=tf.keras.models.Sequential([\n",
        "#     tf.keras.layers.Embedding(10000,128,input_length=train_text_padded.shape[1]),\n",
        "#     tf.keras.layers.GlobalAveragePooling1D(),\n",
        "#     tf.keras.layers.Dense(8,activation='relu'),\n",
        "#     tf.keras.layers.Dense(3,activation='softmax')\n",
        "# ])"
      ],
      "execution_count": 49,
      "outputs": []
    },
    {
      "cell_type": "code",
      "metadata": {
        "colab": {
          "base_uri": "https://localhost:8080/"
        },
        "id": "oxatUsaw6Gug",
        "outputId": "b92a4311-dbd7-43a4-920a-25f576e88d92"
      },
      "source": [
        "# model_1.summary()"
      ],
      "execution_count": 50,
      "outputs": [
        {
          "output_type": "stream",
          "text": [
            "Model: \"sequential\"\n",
            "_________________________________________________________________\n",
            "Layer (type)                 Output Shape              Param #   \n",
            "=================================================================\n",
            "embedding (Embedding)        (None, 31, 128)           1280000   \n",
            "_________________________________________________________________\n",
            "global_average_pooling1d (Gl (None, 128)               0         \n",
            "_________________________________________________________________\n",
            "dense (Dense)                (None, 8)                 1032      \n",
            "_________________________________________________________________\n",
            "dense_1 (Dense)              (None, 3)                 27        \n",
            "=================================================================\n",
            "Total params: 1,281,059\n",
            "Trainable params: 1,281,059\n",
            "Non-trainable params: 0\n",
            "_________________________________________________________________\n"
          ],
          "name": "stdout"
        }
      ]
    },
    {
      "cell_type": "code",
      "metadata": {
        "id": "H36FMceO6Iaf"
      },
      "source": [
        "# model_1.compile(loss=tf.keras.losses.CategoricalCrossentropy(),optimizer=tf.keras.optimizers.Adam(),metrics=['accuracy'])"
      ],
      "execution_count": 51,
      "outputs": []
    },
    {
      "cell_type": "code",
      "metadata": {
        "colab": {
          "base_uri": "https://localhost:8080/"
        },
        "id": "NA49uD8B6Kev",
        "outputId": "81aa0021-0062-4364-a591-ee69d02e4ab0"
      },
      "source": [
        "# history_1=model_1.fit(train_text_padded,train_labels,epochs=4,validation_data=(validation_text_padded,validation_labels))"
      ],
      "execution_count": 52,
      "outputs": [
        {
          "output_type": "stream",
          "text": [
            "Epoch 1/4\n",
            "1029/1029 [==============================] - 15s 13ms/step - loss: 0.7844 - accuracy: 0.6560 - val_loss: 0.5943 - val_accuracy: 0.7824\n",
            "Epoch 2/4\n",
            "1029/1029 [==============================] - 14s 14ms/step - loss: 0.4641 - accuracy: 0.8366 - val_loss: 0.5338 - val_accuracy: 0.8071\n",
            "Epoch 3/4\n",
            "1029/1029 [==============================] - 14s 13ms/step - loss: 0.3487 - accuracy: 0.8853 - val_loss: 0.5265 - val_accuracy: 0.8151\n",
            "Epoch 4/4\n",
            "1029/1029 [==============================] - 14s 14ms/step - loss: 0.2890 - accuracy: 0.9087 - val_loss: 0.5541 - val_accuracy: 0.8115\n"
          ],
          "name": "stdout"
        }
      ]
    },
    {
      "cell_type": "code",
      "metadata": {
        "colab": {
          "base_uri": "https://localhost:8080/"
        },
        "id": "C4ZBAw7p6MCq",
        "outputId": "b1fe7c4e-35c0-402e-c9ee-83fcd19e80b6"
      },
      "source": [
        "# model_1.evaluate(validation_text_padded,validation_labels)"
      ],
      "execution_count": 53,
      "outputs": [
        {
          "output_type": "stream",
          "text": [
            "258/258 [==============================] - 0s 1ms/step - loss: 0.5541 - accuracy: 0.8115\n"
          ],
          "name": "stdout"
        },
        {
          "output_type": "execute_result",
          "data": {
            "text/plain": [
              "[0.5541064739227295, 0.8114674687385559]"
            ]
          },
          "metadata": {},
          "execution_count": 53
        }
      ]
    },
    {
      "cell_type": "code",
      "metadata": {
        "id": "zoj_kF_z6d3H",
        "colab": {
          "base_uri": "https://localhost:8080/"
        },
        "outputId": "63067567-2dee-4192-a6c4-3e3163fb03bb"
      },
      "source": [
        "# #baseline model 2\n",
        "# model_2=tf.keras.models.Sequential([\n",
        "#     tf.keras.layers.Embedding(10000,128,input_length=train_text_padded.shape[1]),\n",
        "#     tf.keras.layers.GlobalAveragePooling1D(),\n",
        "#     tf.keras.layers.Dense(16,activation='relu'),\n",
        "#     tf.keras.layers.Dense(8,activation='relu'),\n",
        "#     tf.keras.layers.Dense(3,activation='softmax')\n",
        "# ])\n",
        "# model_2.compile(loss=tf.keras.losses.CategoricalCrossentropy(),optimizer=tf.keras.optimizers.Adam(),metrics=['accuracy'])\n",
        "# history_2=model_2.fit(train_text_padded,train_labels,epochs=4,validation_data=(validation_text_padded,validation_labels))"
      ],
      "execution_count": 54,
      "outputs": [
        {
          "output_type": "stream",
          "text": [
            "Epoch 1/4\n",
            "1029/1029 [==============================] - 14s 13ms/step - loss: 0.7719 - accuracy: 0.6511 - val_loss: 0.5684 - val_accuracy: 0.7862\n",
            "Epoch 2/4\n",
            "1029/1029 [==============================] - 14s 14ms/step - loss: 0.4358 - accuracy: 0.8474 - val_loss: 0.5252 - val_accuracy: 0.8044\n",
            "Epoch 3/4\n",
            "1029/1029 [==============================] - 14s 13ms/step - loss: 0.3311 - accuracy: 0.8905 - val_loss: 0.5171 - val_accuracy: 0.8169\n",
            "Epoch 4/4\n",
            "1029/1029 [==============================] - 13s 13ms/step - loss: 0.2748 - accuracy: 0.9095 - val_loss: 0.5440 - val_accuracy: 0.8127\n"
          ],
          "name": "stdout"
        }
      ]
    },
    {
      "cell_type": "code",
      "metadata": {
        "colab": {
          "base_uri": "https://localhost:8080/"
        },
        "id": "EgNYU-V154-q",
        "outputId": "b42a36cf-ae3d-457a-d361-80f7aefbf75e"
      },
      "source": [
        "# model_3=tf.keras.models.Sequential([\n",
        "#     tf.keras.layers.Embedding(10000,128,input_length=max_length),\n",
        "#     tf.keras.layers.LSTM(8),\n",
        "#     tf.keras.layers.Dense(8,activation='relu'),\n",
        "#     tf.keras.layers.Dense(3,activation='softmax')\n",
        "# ])\n",
        "# model_3.compile(loss=tf.keras.losses.CategoricalCrossentropy(),optimizer=tf.keras.optimizers.Adam(),metrics=['accuracy'])\n",
        "# history_3=model_3.fit(train_text_padded,train_labels,epochs=3,validation_data=(validation_text_padded,validation_labels))"
      ],
      "execution_count": 55,
      "outputs": [
        {
          "output_type": "stream",
          "text": [
            "Epoch 1/3\n",
            "1029/1029 [==============================] - 30s 28ms/step - loss: 0.8929 - accuracy: 0.5387 - val_loss: 0.6002 - val_accuracy: 0.7700\n",
            "Epoch 2/3\n",
            "1029/1029 [==============================] - 28s 27ms/step - loss: 0.4438 - accuracy: 0.8423 - val_loss: 0.4359 - val_accuracy: 0.8467\n",
            "Epoch 3/3\n",
            "1029/1029 [==============================] - 28s 27ms/step - loss: 0.3052 - accuracy: 0.9021 - val_loss: 0.4412 - val_accuracy: 0.8480\n"
          ],
          "name": "stdout"
        }
      ]
    },
    {
      "cell_type": "code",
      "metadata": {
        "colab": {
          "base_uri": "https://localhost:8080/"
        },
        "id": "z71SK2my-GJ2",
        "outputId": "ea849657-1187-4bbb-cdf9-e260b54ab226"
      },
      "source": [
        "model4=tf.keras.models.Sequential([\n",
        "    tf.keras.layers.Embedding(10000,128,input_length=train_text_padded.shape[1]),\n",
        "    tf.keras.layers.LSTM(512),\n",
        "    tf.keras.layers.Dense(256,activation='relu'),\n",
        "    tf.keras.layers.Dense(128,activation='relu'),\n",
        "    tf.keras.layers.Dense(32,activation='relu'),\n",
        "    tf.keras.layers.Dense(3,activation='softmax')\n",
        "])\n",
        "model4.compile(loss=tf.keras.losses.CategoricalCrossentropy(),optimizer=tf.keras.optimizers.Adam(),metrics=['accuracy'])\n",
        "history_4=model4.fit(train_text_padded,train_labels,epochs=4,validation_data=(validation_text_padded,validation_labels))"
      ],
      "execution_count": 76,
      "outputs": [
        {
          "output_type": "stream",
          "text": [
            "Epoch 1/4\n",
            "1029/1029 [==============================] - 519s 501ms/step - loss: 0.7502 - accuracy: 0.6552 - val_loss: 0.5058 - val_accuracy: 0.8139\n",
            "Epoch 2/4\n",
            "1029/1029 [==============================] - 506s 492ms/step - loss: 0.3895 - accuracy: 0.8658 - val_loss: 0.4345 - val_accuracy: 0.8497\n",
            "Epoch 3/4\n",
            "1029/1029 [==============================] - 525s 510ms/step - loss: 0.2814 - accuracy: 0.9053 - val_loss: 0.4283 - val_accuracy: 0.8587\n",
            "Epoch 4/4\n",
            "1029/1029 [==============================] - 565s 549ms/step - loss: 0.2100 - accuracy: 0.9295 - val_loss: 0.4484 - val_accuracy: 0.8477\n"
          ],
          "name": "stdout"
        }
      ]
    },
    {
      "cell_type": "code",
      "metadata": {
        "id": "4rvuMpPt7QiU",
        "colab": {
          "base_uri": "https://localhost:8080/"
        },
        "outputId": "9e357ac3-5e07-4ece-adcb-a5ea019d44dc"
      },
      "source": [
        "len(train_text_padded[0])"
      ],
      "execution_count": 57,
      "outputs": [
        {
          "output_type": "execute_result",
          "data": {
            "text/plain": [
              "31"
            ]
          },
          "metadata": {},
          "execution_count": 57
        }
      ]
    },
    {
      "cell_type": "code",
      "metadata": {
        "id": "M76V0XBz9_8H",
        "colab": {
          "base_uri": "https://localhost:8080/"
        },
        "outputId": "25ea5dde-1d51-45f8-b646-74a28ef08c1d"
      },
      "source": [
        "model4.summary()"
      ],
      "execution_count": 58,
      "outputs": [
        {
          "output_type": "stream",
          "text": [
            "Model: \"sequential_3\"\n",
            "_________________________________________________________________\n",
            "Layer (type)                 Output Shape              Param #   \n",
            "=================================================================\n",
            "embedding_3 (Embedding)      (None, 31, 128)           1280000   \n",
            "_________________________________________________________________\n",
            "lstm_1 (LSTM)                (None, 512)               1312768   \n",
            "_________________________________________________________________\n",
            "dense_7 (Dense)              (None, 256)               131328    \n",
            "_________________________________________________________________\n",
            "dense_8 (Dense)              (None, 128)               32896     \n",
            "_________________________________________________________________\n",
            "dense_9 (Dense)              (None, 32)                4128      \n",
            "_________________________________________________________________\n",
            "dense_10 (Dense)             (None, 3)                 99        \n",
            "=================================================================\n",
            "Total params: 2,761,219\n",
            "Trainable params: 2,761,219\n",
            "Non-trainable params: 0\n",
            "_________________________________________________________________\n"
          ],
          "name": "stdout"
        }
      ]
    },
    {
      "cell_type": "code",
      "metadata": {
        "id": "i3GUUsvb-BOw"
      },
      "source": [
        "import tensorflow_hub as hub\n"
      ],
      "execution_count": 59,
      "outputs": []
    },
    {
      "cell_type": "code",
      "metadata": {
        "id": "LowAcT-CZl9i"
      },
      "source": [
        "embed = hub.load(\"https://tfhub.dev/google/universal-sentence-encoder/4\")"
      ],
      "execution_count": 60,
      "outputs": []
    },
    {
      "cell_type": "code",
      "metadata": {
        "id": "3MqJpYcWZnpu"
      },
      "source": [
        "train_embed = embed(train_text)\n",
        "test_embed = embed(validation_text)"
      ],
      "execution_count": 61,
      "outputs": []
    },
    {
      "cell_type": "code",
      "metadata": {
        "colab": {
          "base_uri": "https://localhost:8080/"
        },
        "id": "Z7NULmUqZ8Zh",
        "outputId": "e199a622-f8c4-44df-8166-7ed5e395ce0e"
      },
      "source": [
        "len(train_embed[0])"
      ],
      "execution_count": 62,
      "outputs": [
        {
          "output_type": "execute_result",
          "data": {
            "text/plain": [
              "512"
            ]
          },
          "metadata": {},
          "execution_count": 62
        }
      ]
    },
    {
      "cell_type": "code",
      "metadata": {
        "id": "UW2G-gK5aKBc"
      },
      "source": [
        "# model_6=tf.keras.models.Sequential([\n",
        "#     tf.keras.layers.Dense(3,activation='softmax')\n",
        "# ])\n",
        "# model_6.compile(loss=tf.keras.losses.CategoricalCrossentropy(),optimizer=tf.keras.optimizers.Adam(),metrics=['accuracy'])\n",
        "# model_6.fit(train_embed,train_labels,epochs=30,validation_data=(test_embed,validation_labels))"
      ],
      "execution_count": 63,
      "outputs": []
    },
    {
      "cell_type": "code",
      "metadata": {
        "id": "-5SOJxAya_yU"
      },
      "source": [
        "# model_new=tf.keras.models.Sequential([\n",
        "#     tf.keras.layers.Embedding(10000,128,input_length=max_length),\n",
        "#     tf.keras.layers.Bidirectional(tf.keras.layers.LSTM(64,return_sequences=True)),\n",
        "#     tf.keras.layers.Bidirectional(tf.keras.layers.LSTM(32)),\n",
        "#     tf.keras.layers.Dense(16,activation='relu'),\n",
        "#     tf.keras.layers.Dense(3,activation='softmax')\n",
        "# ])\n",
        "# model_new.compile(loss=tf.keras.losses.CategoricalCrossentropy(),optimizer=tf.keras.optimizers.Adam(),metrics=['accuracy'])\n",
        "# model_new.fit(train_embed,train_labels,epochs=5,validation_data=(test_embed,validation_labels))"
      ],
      "execution_count": 64,
      "outputs": []
    },
    {
      "cell_type": "code",
      "metadata": {
        "id": "ycjVYSThbj4L",
        "colab": {
          "base_uri": "https://localhost:8080/",
          "height": 417
        },
        "outputId": "8a1446f0-e49a-435a-cdc5-ea5f668c77ec"
      },
      "source": [
        "data_test"
      ],
      "execution_count": 65,
      "outputs": [
        {
          "output_type": "execute_result",
          "data": {
            "text/html": [
              "<div>\n",
              "<style scoped>\n",
              "    .dataframe tbody tr th:only-of-type {\n",
              "        vertical-align: middle;\n",
              "    }\n",
              "\n",
              "    .dataframe tbody tr th {\n",
              "        vertical-align: top;\n",
              "    }\n",
              "\n",
              "    .dataframe thead th {\n",
              "        text-align: right;\n",
              "    }\n",
              "</style>\n",
              "<table border=\"1\" class=\"dataframe\">\n",
              "  <thead>\n",
              "    <tr style=\"text-align: right;\">\n",
              "      <th></th>\n",
              "      <th>UserName</th>\n",
              "      <th>ScreenName</th>\n",
              "      <th>Location</th>\n",
              "      <th>TweetAt</th>\n",
              "      <th>OriginalTweet</th>\n",
              "      <th>Sentiment</th>\n",
              "    </tr>\n",
              "  </thead>\n",
              "  <tbody>\n",
              "    <tr>\n",
              "      <th>0</th>\n",
              "      <td>1</td>\n",
              "      <td>44953</td>\n",
              "      <td>NYC</td>\n",
              "      <td>02-03-2020</td>\n",
              "      <td>TRENDING: New Yorkers encounter empty supermar...</td>\n",
              "      <td>Extremely Negative</td>\n",
              "    </tr>\n",
              "    <tr>\n",
              "      <th>1</th>\n",
              "      <td>2</td>\n",
              "      <td>44954</td>\n",
              "      <td>Seattle, WA</td>\n",
              "      <td>02-03-2020</td>\n",
              "      <td>When I couldn't find hand sanitizer at Fred Me...</td>\n",
              "      <td>Positive</td>\n",
              "    </tr>\n",
              "    <tr>\n",
              "      <th>2</th>\n",
              "      <td>3</td>\n",
              "      <td>44955</td>\n",
              "      <td>NaN</td>\n",
              "      <td>02-03-2020</td>\n",
              "      <td>Find out how you can protect yourself and love...</td>\n",
              "      <td>Extremely Positive</td>\n",
              "    </tr>\n",
              "    <tr>\n",
              "      <th>3</th>\n",
              "      <td>4</td>\n",
              "      <td>44956</td>\n",
              "      <td>Chicagoland</td>\n",
              "      <td>02-03-2020</td>\n",
              "      <td>#Panic buying hits #NewYork City as anxious sh...</td>\n",
              "      <td>Negative</td>\n",
              "    </tr>\n",
              "    <tr>\n",
              "      <th>4</th>\n",
              "      <td>5</td>\n",
              "      <td>44957</td>\n",
              "      <td>Melbourne, Victoria</td>\n",
              "      <td>03-03-2020</td>\n",
              "      <td>#toiletpaper #dunnypaper #coronavirus #coronav...</td>\n",
              "      <td>Neutral</td>\n",
              "    </tr>\n",
              "    <tr>\n",
              "      <th>...</th>\n",
              "      <td>...</td>\n",
              "      <td>...</td>\n",
              "      <td>...</td>\n",
              "      <td>...</td>\n",
              "      <td>...</td>\n",
              "      <td>...</td>\n",
              "    </tr>\n",
              "    <tr>\n",
              "      <th>3793</th>\n",
              "      <td>3794</td>\n",
              "      <td>48746</td>\n",
              "      <td>Israel ??</td>\n",
              "      <td>16-03-2020</td>\n",
              "      <td>Meanwhile In A Supermarket in Israel -- People...</td>\n",
              "      <td>Positive</td>\n",
              "    </tr>\n",
              "    <tr>\n",
              "      <th>3794</th>\n",
              "      <td>3795</td>\n",
              "      <td>48747</td>\n",
              "      <td>Farmington, NM</td>\n",
              "      <td>16-03-2020</td>\n",
              "      <td>Did you panic buy a lot of non-perishable item...</td>\n",
              "      <td>Negative</td>\n",
              "    </tr>\n",
              "    <tr>\n",
              "      <th>3795</th>\n",
              "      <td>3796</td>\n",
              "      <td>48748</td>\n",
              "      <td>Haverford, PA</td>\n",
              "      <td>16-03-2020</td>\n",
              "      <td>Asst Prof of Economics @cconces was on @NBCPhi...</td>\n",
              "      <td>Neutral</td>\n",
              "    </tr>\n",
              "    <tr>\n",
              "      <th>3796</th>\n",
              "      <td>3797</td>\n",
              "      <td>48749</td>\n",
              "      <td>NaN</td>\n",
              "      <td>16-03-2020</td>\n",
              "      <td>Gov need to do somethings instead of biar je r...</td>\n",
              "      <td>Extremely Negative</td>\n",
              "    </tr>\n",
              "    <tr>\n",
              "      <th>3797</th>\n",
              "      <td>3798</td>\n",
              "      <td>48750</td>\n",
              "      <td>Arlington, Virginia</td>\n",
              "      <td>16-03-2020</td>\n",
              "      <td>I and @ForestandPaper members are committed to...</td>\n",
              "      <td>Extremely Positive</td>\n",
              "    </tr>\n",
              "  </tbody>\n",
              "</table>\n",
              "<p>3798 rows × 6 columns</p>\n",
              "</div>"
            ],
            "text/plain": [
              "      UserName  ...           Sentiment\n",
              "0            1  ...  Extremely Negative\n",
              "1            2  ...            Positive\n",
              "2            3  ...  Extremely Positive\n",
              "3            4  ...            Negative\n",
              "4            5  ...             Neutral\n",
              "...        ...  ...                 ...\n",
              "3793      3794  ...            Positive\n",
              "3794      3795  ...            Negative\n",
              "3795      3796  ...             Neutral\n",
              "3796      3797  ...  Extremely Negative\n",
              "3797      3798  ...  Extremely Positive\n",
              "\n",
              "[3798 rows x 6 columns]"
            ]
          },
          "metadata": {},
          "execution_count": 65
        }
      ]
    },
    {
      "cell_type": "code",
      "metadata": {
        "colab": {
          "base_uri": "https://localhost:8080/"
        },
        "id": "0ObEe7_u2z2i",
        "outputId": "5256ea51-ec60-4aaf-efc0-bb37df5cab4f"
      },
      "source": [
        "data_test.iloc[:,4]"
      ],
      "execution_count": 66,
      "outputs": [
        {
          "output_type": "execute_result",
          "data": {
            "text/plain": [
              "0       TRENDING: New Yorkers encounter empty supermar...\n",
              "1       When I couldn't find hand sanitizer at Fred Me...\n",
              "2       Find out how you can protect yourself and love...\n",
              "3       #Panic buying hits #NewYork City as anxious sh...\n",
              "4       #toiletpaper #dunnypaper #coronavirus #coronav...\n",
              "                              ...                        \n",
              "3793    Meanwhile In A Supermarket in Israel -- People...\n",
              "3794    Did you panic buy a lot of non-perishable item...\n",
              "3795    Asst Prof of Economics @cconces was on @NBCPhi...\n",
              "3796    Gov need to do somethings instead of biar je r...\n",
              "3797    I and @ForestandPaper members are committed to...\n",
              "Name: OriginalTweet, Length: 3798, dtype: object"
            ]
          },
          "metadata": {},
          "execution_count": 66
        }
      ]
    },
    {
      "cell_type": "code",
      "metadata": {
        "id": "t0Rw943h23Av",
        "colab": {
          "base_uri": "https://localhost:8080/"
        },
        "outputId": "331fb85d-48a5-46dd-9332-6a7462f315e9"
      },
      "source": [
        "for i in range(0,len(data_test)):\n",
        "    if(data_test['Sentiment'][i]=='Extremely Negative'):\n",
        "        data_test['Sentiment'][i]='Negative'\n",
        "    elif(data_test['Sentiment'][i]=='Extremely Positive'):\n",
        "        data_test['Sentiment'][i]='Positive'"
      ],
      "execution_count": 67,
      "outputs": [
        {
          "output_type": "stream",
          "text": [
            "/usr/local/lib/python3.7/dist-packages/ipykernel_launcher.py:3: SettingWithCopyWarning: \n",
            "A value is trying to be set on a copy of a slice from a DataFrame\n",
            "\n",
            "See the caveats in the documentation: https://pandas.pydata.org/pandas-docs/stable/user_guide/indexing.html#returning-a-view-versus-a-copy\n",
            "  This is separate from the ipykernel package so we can avoid doing imports until\n",
            "/usr/local/lib/python3.7/dist-packages/ipykernel_launcher.py:5: SettingWithCopyWarning: \n",
            "A value is trying to be set on a copy of a slice from a DataFrame\n",
            "\n",
            "See the caveats in the documentation: https://pandas.pydata.org/pandas-docs/stable/user_guide/indexing.html#returning-a-view-versus-a-copy\n",
            "  \"\"\"\n"
          ],
          "name": "stderr"
        }
      ]
    },
    {
      "cell_type": "code",
      "metadata": {
        "id": "jrdwrhzs25Zy"
      },
      "source": [
        "X_test=data_test.iloc[:,4]"
      ],
      "execution_count": 68,
      "outputs": []
    },
    {
      "cell_type": "code",
      "metadata": {
        "colab": {
          "base_uri": "https://localhost:8080/"
        },
        "id": "J3LzesUt28tW",
        "outputId": "35b8653d-8eee-4566-e0bf-42c5262ec505"
      },
      "source": [
        "##preprocessing the test dataset\n",
        "for i in range(0,len(X_test)):\n",
        "    temp=X_test[i]\n",
        "    temp=re.sub(\"@\\S+\", \" \", temp)\n",
        "    temp=re.sub(\"https*\\S+\", \" \", temp)\n",
        "    temp=re.sub(\"#\\S+\", \" \", temp)\n",
        "    temp=re.sub(\"\\'\\w+\", '', temp)\n",
        "    temp=re.sub('[%s]' % re.escape(string.punctuation), ' ', temp)\n",
        "    temp=re.sub(r'\\w*\\d+\\w*', '', temp)\n",
        "    temp=re.sub('\\s{2,}', \" \", temp)\n",
        "    X_test[i]=temp\n",
        "    ##print(temp)"
      ],
      "execution_count": 69,
      "outputs": [
        {
          "output_type": "stream",
          "text": [
            "/usr/local/lib/python3.7/dist-packages/ipykernel_launcher.py:11: SettingWithCopyWarning: \n",
            "A value is trying to be set on a copy of a slice from a DataFrame\n",
            "\n",
            "See the caveats in the documentation: https://pandas.pydata.org/pandas-docs/stable/user_guide/indexing.html#returning-a-view-versus-a-copy\n",
            "  # This is added back by InteractiveShellApp.init_path()\n"
          ],
          "name": "stderr"
        }
      ]
    },
    {
      "cell_type": "code",
      "metadata": {
        "id": "5sz37NLf3CJ0"
      },
      "source": [
        "final_result=[]"
      ],
      "execution_count": 70,
      "outputs": []
    },
    {
      "cell_type": "code",
      "metadata": {
        "id": "dpYN352r3EiV"
      },
      "source": [
        "for i in range(0,len(X_test)):\n",
        "    text=[X_test[i]]\n",
        "    text=tokenizer.texts_to_sequences(text)\n",
        "    text=pad_sequences(text,maxlen=max_length,padding='post')\n",
        "    predict_result=model4.predict(text)\n",
        "    result=np.argmax(predict_result,axis=1)\n",
        "    if(result==0):\n",
        "        final_result.append('Negative')\n",
        "    elif(result==1):\n",
        "        final_result.append('Neutral')\n",
        "    elif(result==2):\n",
        "        final_result.append('Positive')\n",
        "    "
      ],
      "execution_count": 92,
      "outputs": []
    },
    {
      "cell_type": "code",
      "metadata": {
        "id": "xbpNh4DYaw_R"
      },
      "source": [
        "actual_result=data_test.iloc[:,5]"
      ],
      "execution_count": 93,
      "outputs": []
    },
    {
      "cell_type": "code",
      "metadata": {
        "colab": {
          "base_uri": "https://localhost:8080/"
        },
        "id": "fzBQFuw5zFtR",
        "outputId": "c0fc15b4-7d2d-4ae6-ad52-d2ced9b6611d"
      },
      "source": [
        "type(actual_result)"
      ],
      "execution_count": 94,
      "outputs": [
        {
          "output_type": "execute_result",
          "data": {
            "text/plain": [
              "pandas.core.series.Series"
            ]
          },
          "metadata": {},
          "execution_count": 94
        }
      ]
    },
    {
      "cell_type": "code",
      "metadata": {
        "colab": {
          "base_uri": "https://localhost:8080/",
          "height": 320
        },
        "id": "ClcySUCbzHeN",
        "outputId": "5cfec85e-5ca0-46c4-c08b-25972a0c0149"
      },
      "source": [
        "from sklearn.metrics import confusion_matrix\n",
        "confusion_matrix(actual_result,final_result, labels=[])"
      ],
      "execution_count": 97,
      "outputs": [
        {
          "output_type": "error",
          "ename": "ValueError",
          "evalue": "ignored",
          "traceback": [
            "\u001b[0;31m---------------------------------------------------------------------------\u001b[0m",
            "\u001b[0;31mValueError\u001b[0m                                Traceback (most recent call last)",
            "\u001b[0;32m<ipython-input-97-e3b4075d2861>\u001b[0m in \u001b[0;36m<module>\u001b[0;34m()\u001b[0m\n\u001b[1;32m      1\u001b[0m \u001b[0;32mfrom\u001b[0m \u001b[0msklearn\u001b[0m\u001b[0;34m.\u001b[0m\u001b[0mmetrics\u001b[0m \u001b[0;32mimport\u001b[0m \u001b[0mconfusion_matrix\u001b[0m\u001b[0;34m\u001b[0m\u001b[0;34m\u001b[0m\u001b[0m\n\u001b[0;32m----> 2\u001b[0;31m \u001b[0mconfusion_matrix\u001b[0m\u001b[0;34m(\u001b[0m\u001b[0mactual_result\u001b[0m\u001b[0;34m,\u001b[0m\u001b[0mfinal_result\u001b[0m\u001b[0;34m,\u001b[0m \u001b[0mlabels\u001b[0m\u001b[0;34m=\u001b[0m\u001b[0;34m[\u001b[0m\u001b[0;34m]\u001b[0m\u001b[0;34m)\u001b[0m\u001b[0;34m\u001b[0m\u001b[0;34m\u001b[0m\u001b[0m\n\u001b[0m",
            "\u001b[0;32m/usr/local/lib/python3.7/dist-packages/sklearn/metrics/_classification.py\u001b[0m in \u001b[0;36mconfusion_matrix\u001b[0;34m(y_true, y_pred, labels, sample_weight, normalize)\u001b[0m\n\u001b[1;32m    266\u001b[0m \u001b[0;34m\u001b[0m\u001b[0m\n\u001b[1;32m    267\u001b[0m     \"\"\"\n\u001b[0;32m--> 268\u001b[0;31m     \u001b[0my_type\u001b[0m\u001b[0;34m,\u001b[0m \u001b[0my_true\u001b[0m\u001b[0;34m,\u001b[0m \u001b[0my_pred\u001b[0m \u001b[0;34m=\u001b[0m \u001b[0m_check_targets\u001b[0m\u001b[0;34m(\u001b[0m\u001b[0my_true\u001b[0m\u001b[0;34m,\u001b[0m \u001b[0my_pred\u001b[0m\u001b[0;34m)\u001b[0m\u001b[0;34m\u001b[0m\u001b[0;34m\u001b[0m\u001b[0m\n\u001b[0m\u001b[1;32m    269\u001b[0m     \u001b[0;32mif\u001b[0m \u001b[0my_type\u001b[0m \u001b[0;32mnot\u001b[0m \u001b[0;32min\u001b[0m \u001b[0;34m(\u001b[0m\u001b[0;34m\"binary\"\u001b[0m\u001b[0;34m,\u001b[0m \u001b[0;34m\"multiclass\"\u001b[0m\u001b[0;34m)\u001b[0m\u001b[0;34m:\u001b[0m\u001b[0;34m\u001b[0m\u001b[0;34m\u001b[0m\u001b[0m\n\u001b[1;32m    270\u001b[0m         \u001b[0;32mraise\u001b[0m \u001b[0mValueError\u001b[0m\u001b[0;34m(\u001b[0m\u001b[0;34m\"%s is not supported\"\u001b[0m \u001b[0;34m%\u001b[0m \u001b[0my_type\u001b[0m\u001b[0;34m)\u001b[0m\u001b[0;34m\u001b[0m\u001b[0;34m\u001b[0m\u001b[0m\n",
            "\u001b[0;32m/usr/local/lib/python3.7/dist-packages/sklearn/metrics/_classification.py\u001b[0m in \u001b[0;36m_check_targets\u001b[0;34m(y_true, y_pred)\u001b[0m\n\u001b[1;32m     78\u001b[0m     \u001b[0my_pred\u001b[0m \u001b[0;34m:\u001b[0m \u001b[0marray\u001b[0m \u001b[0;32mor\u001b[0m \u001b[0mindicator\u001b[0m \u001b[0mmatrix\u001b[0m\u001b[0;34m\u001b[0m\u001b[0;34m\u001b[0m\u001b[0m\n\u001b[1;32m     79\u001b[0m     \"\"\"\n\u001b[0;32m---> 80\u001b[0;31m     \u001b[0mcheck_consistent_length\u001b[0m\u001b[0;34m(\u001b[0m\u001b[0my_true\u001b[0m\u001b[0;34m,\u001b[0m \u001b[0my_pred\u001b[0m\u001b[0;34m)\u001b[0m\u001b[0;34m\u001b[0m\u001b[0;34m\u001b[0m\u001b[0m\n\u001b[0m\u001b[1;32m     81\u001b[0m     \u001b[0mtype_true\u001b[0m \u001b[0;34m=\u001b[0m \u001b[0mtype_of_target\u001b[0m\u001b[0;34m(\u001b[0m\u001b[0my_true\u001b[0m\u001b[0;34m)\u001b[0m\u001b[0;34m\u001b[0m\u001b[0;34m\u001b[0m\u001b[0m\n\u001b[1;32m     82\u001b[0m     \u001b[0mtype_pred\u001b[0m \u001b[0;34m=\u001b[0m \u001b[0mtype_of_target\u001b[0m\u001b[0;34m(\u001b[0m\u001b[0my_pred\u001b[0m\u001b[0;34m)\u001b[0m\u001b[0;34m\u001b[0m\u001b[0;34m\u001b[0m\u001b[0m\n",
            "\u001b[0;32m/usr/local/lib/python3.7/dist-packages/sklearn/utils/validation.py\u001b[0m in \u001b[0;36mcheck_consistent_length\u001b[0;34m(*arrays)\u001b[0m\n\u001b[1;32m    210\u001b[0m     \u001b[0;32mif\u001b[0m \u001b[0mlen\u001b[0m\u001b[0;34m(\u001b[0m\u001b[0muniques\u001b[0m\u001b[0;34m)\u001b[0m \u001b[0;34m>\u001b[0m \u001b[0;36m1\u001b[0m\u001b[0;34m:\u001b[0m\u001b[0;34m\u001b[0m\u001b[0;34m\u001b[0m\u001b[0m\n\u001b[1;32m    211\u001b[0m         raise ValueError(\"Found input variables with inconsistent numbers of\"\n\u001b[0;32m--> 212\u001b[0;31m                          \" samples: %r\" % [int(l) for l in lengths])\n\u001b[0m\u001b[1;32m    213\u001b[0m \u001b[0;34m\u001b[0m\u001b[0m\n\u001b[1;32m    214\u001b[0m \u001b[0;34m\u001b[0m\u001b[0m\n",
            "\u001b[0;31mValueError\u001b[0m: Found input variables with inconsistent numbers of samples: [3798, 4424]"
          ]
        }
      ]
    },
    {
      "cell_type": "markdown",
      "metadata": {
        "id": "ztOXmLGE0TDG"
      },
      "source": [
        ""
      ]
    },
    {
      "cell_type": "code",
      "metadata": {
        "id": "hp7SqGaAzKx5"
      },
      "source": [
        ""
      ],
      "execution_count": null,
      "outputs": []
    }
  ]
}