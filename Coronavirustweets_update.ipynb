{
  "nbformat": 4,
  "nbformat_minor": 0,
  "metadata": {
    "colab": {
      "name": "Coronavirustweets.ipynb",
      "provenance": [],
      "collapsed_sections": []
    },
    "kernelspec": {
      "display_name": "Python 3",
      "name": "python3"
    },
    "language_info": {
      "name": "python"
    }
  },
  "cells": [
    {
      "cell_type": "code",
      "metadata": {
        "id": "sMvGOVKQA-na"
      },
      "source": [
        "# Before running the given file we need to mount colab to our drive\n",
        "# After that we need to create a folder and we need to add both our data set files\n",
        "\n",
        "#importlibraries\n",
        "\n",
        "import numpy as np # linear algebra\n",
        "import pandas as pd # data processing, CSV file I/O (e.g. pd.read_csv)\n",
        "import matplotlib.pyplot as plt\n",
        "import os\n",
        "from sklearn.preprocessing import LabelEncoder\n",
        "from sklearn.model_selection import train_test_split\n",
        "import random\n",
        "import tensorflow as tf\n",
        "from tensorflow.keras.preprocessing.text import Tokenizer\n",
        "import re\n",
        "import string\n",
        "from tensorflow.keras.preprocessing.sequence import pad_sequences\n",
        "import tensorflow_hub as hub\n",
        "from sklearn.metrics import confusion_matrix"
      ],
      "execution_count": 59,
      "outputs": []
    },
    {
      "cell_type": "code",
      "metadata": {
        "colab": {
          "base_uri": "https://localhost:8080/"
        },
        "id": "zP-I21btF5xF",
        "outputId": "ce22de7d-aed5-42bd-8d10-08ad97aac1ff"
      },
      "source": [
        "from google.colab import drive\n",
        "drive.mount ('/gdrive')"
      ],
      "execution_count": 2,
      "outputs": [
        {
          "output_type": "stream",
          "text": [
            "Mounted at /gdrive\n"
          ],
          "name": "stdout"
        }
      ]
    },
    {
      "cell_type": "code",
      "metadata": {
        "id": "8g0-T9fuF6qW"
      },
      "source": [
        "os.chdir('/gdrive/My Drive/')"
      ],
      "execution_count": 3,
      "outputs": []
    },
    {
      "cell_type": "code",
      "metadata": {
        "colab": {
          "base_uri": "https://localhost:8080/",
          "height": 203
        },
        "id": "yF3UOryRCi_-",
        "outputId": "f9e999ef-8892-4eb8-f744-35b6620d3455"
      },
      "source": [
        "data_train=pd.read_csv('CovidProject/Corona_NLP_train.csv',encoding='latin1')\n",
        "data_test=pd.read_csv('CovidProject/Corona_NLP_test.csv',encoding='latin1')\n",
        "data_train.head()"
      ],
      "execution_count": 4,
      "outputs": [
        {
          "output_type": "execute_result",
          "data": {
            "text/html": [
              "<div>\n",
              "<style scoped>\n",
              "    .dataframe tbody tr th:only-of-type {\n",
              "        vertical-align: middle;\n",
              "    }\n",
              "\n",
              "    .dataframe tbody tr th {\n",
              "        vertical-align: top;\n",
              "    }\n",
              "\n",
              "    .dataframe thead th {\n",
              "        text-align: right;\n",
              "    }\n",
              "</style>\n",
              "<table border=\"1\" class=\"dataframe\">\n",
              "  <thead>\n",
              "    <tr style=\"text-align: right;\">\n",
              "      <th></th>\n",
              "      <th>UserName</th>\n",
              "      <th>ScreenName</th>\n",
              "      <th>Location</th>\n",
              "      <th>TweetAt</th>\n",
              "      <th>OriginalTweet</th>\n",
              "      <th>Sentiment</th>\n",
              "    </tr>\n",
              "  </thead>\n",
              "  <tbody>\n",
              "    <tr>\n",
              "      <th>0</th>\n",
              "      <td>3799</td>\n",
              "      <td>48751</td>\n",
              "      <td>London</td>\n",
              "      <td>16-03-2020</td>\n",
              "      <td>@MeNyrbie @Phil_Gahan @Chrisitv https://t.co/i...</td>\n",
              "      <td>Neutral</td>\n",
              "    </tr>\n",
              "    <tr>\n",
              "      <th>1</th>\n",
              "      <td>3800</td>\n",
              "      <td>48752</td>\n",
              "      <td>UK</td>\n",
              "      <td>16-03-2020</td>\n",
              "      <td>advice Talk to your neighbours family to excha...</td>\n",
              "      <td>Positive</td>\n",
              "    </tr>\n",
              "    <tr>\n",
              "      <th>2</th>\n",
              "      <td>3801</td>\n",
              "      <td>48753</td>\n",
              "      <td>Vagabonds</td>\n",
              "      <td>16-03-2020</td>\n",
              "      <td>Coronavirus Australia: Woolworths to give elde...</td>\n",
              "      <td>Positive</td>\n",
              "    </tr>\n",
              "    <tr>\n",
              "      <th>3</th>\n",
              "      <td>3802</td>\n",
              "      <td>48754</td>\n",
              "      <td>NaN</td>\n",
              "      <td>16-03-2020</td>\n",
              "      <td>My food stock is not the only one which is emp...</td>\n",
              "      <td>Positive</td>\n",
              "    </tr>\n",
              "    <tr>\n",
              "      <th>4</th>\n",
              "      <td>3803</td>\n",
              "      <td>48755</td>\n",
              "      <td>NaN</td>\n",
              "      <td>16-03-2020</td>\n",
              "      <td>Me, ready to go at supermarket during the #COV...</td>\n",
              "      <td>Extremely Negative</td>\n",
              "    </tr>\n",
              "  </tbody>\n",
              "</table>\n",
              "</div>"
            ],
            "text/plain": [
              "   UserName  ...           Sentiment\n",
              "0      3799  ...             Neutral\n",
              "1      3800  ...            Positive\n",
              "2      3801  ...            Positive\n",
              "3      3802  ...            Positive\n",
              "4      3803  ...  Extremely Negative\n",
              "\n",
              "[5 rows x 6 columns]"
            ]
          },
          "metadata": {},
          "execution_count": 4
        }
      ]
    },
    {
      "cell_type": "code",
      "metadata": {
        "colab": {
          "base_uri": "https://localhost:8080/",
          "height": 287
        },
        "id": "Z5EC63ogFg-s",
        "outputId": "9153598c-ed9d-457a-b9c6-c949af25fe17"
      },
      "source": [
        "data_test.head()"
      ],
      "execution_count": 5,
      "outputs": [
        {
          "output_type": "execute_result",
          "data": {
            "text/html": [
              "<div>\n",
              "<style scoped>\n",
              "    .dataframe tbody tr th:only-of-type {\n",
              "        vertical-align: middle;\n",
              "    }\n",
              "\n",
              "    .dataframe tbody tr th {\n",
              "        vertical-align: top;\n",
              "    }\n",
              "\n",
              "    .dataframe thead th {\n",
              "        text-align: right;\n",
              "    }\n",
              "</style>\n",
              "<table border=\"1\" class=\"dataframe\">\n",
              "  <thead>\n",
              "    <tr style=\"text-align: right;\">\n",
              "      <th></th>\n",
              "      <th>UserName</th>\n",
              "      <th>ScreenName</th>\n",
              "      <th>Location</th>\n",
              "      <th>TweetAt</th>\n",
              "      <th>OriginalTweet</th>\n",
              "      <th>Sentiment</th>\n",
              "    </tr>\n",
              "  </thead>\n",
              "  <tbody>\n",
              "    <tr>\n",
              "      <th>0</th>\n",
              "      <td>1</td>\n",
              "      <td>44953</td>\n",
              "      <td>NYC</td>\n",
              "      <td>02-03-2020</td>\n",
              "      <td>TRENDING: New Yorkers encounter empty supermar...</td>\n",
              "      <td>Extremely Negative</td>\n",
              "    </tr>\n",
              "    <tr>\n",
              "      <th>1</th>\n",
              "      <td>2</td>\n",
              "      <td>44954</td>\n",
              "      <td>Seattle, WA</td>\n",
              "      <td>02-03-2020</td>\n",
              "      <td>When I couldn't find hand sanitizer at Fred Me...</td>\n",
              "      <td>Positive</td>\n",
              "    </tr>\n",
              "    <tr>\n",
              "      <th>2</th>\n",
              "      <td>3</td>\n",
              "      <td>44955</td>\n",
              "      <td>NaN</td>\n",
              "      <td>02-03-2020</td>\n",
              "      <td>Find out how you can protect yourself and love...</td>\n",
              "      <td>Extremely Positive</td>\n",
              "    </tr>\n",
              "    <tr>\n",
              "      <th>3</th>\n",
              "      <td>4</td>\n",
              "      <td>44956</td>\n",
              "      <td>Chicagoland</td>\n",
              "      <td>02-03-2020</td>\n",
              "      <td>#Panic buying hits #NewYork City as anxious sh...</td>\n",
              "      <td>Negative</td>\n",
              "    </tr>\n",
              "    <tr>\n",
              "      <th>4</th>\n",
              "      <td>5</td>\n",
              "      <td>44957</td>\n",
              "      <td>Melbourne, Victoria</td>\n",
              "      <td>03-03-2020</td>\n",
              "      <td>#toiletpaper #dunnypaper #coronavirus #coronav...</td>\n",
              "      <td>Neutral</td>\n",
              "    </tr>\n",
              "  </tbody>\n",
              "</table>\n",
              "</div>"
            ],
            "text/plain": [
              "   UserName  ...           Sentiment\n",
              "0         1  ...  Extremely Negative\n",
              "1         2  ...            Positive\n",
              "2         3  ...  Extremely Positive\n",
              "3         4  ...            Negative\n",
              "4         5  ...             Neutral\n",
              "\n",
              "[5 rows x 6 columns]"
            ]
          },
          "metadata": {},
          "execution_count": 5
        }
      ]
    },
    {
      "cell_type": "code",
      "metadata": {
        "colab": {
          "base_uri": "https://localhost:8080/"
        },
        "id": "0pIregFSKbmN",
        "outputId": "19f9e35a-6042-453e-da24-a9b13d6f2929"
      },
      "source": [
        "print(data_train['Sentiment'].unique())"
      ],
      "execution_count": 6,
      "outputs": [
        {
          "output_type": "stream",
          "text": [
            "['Neutral' 'Positive' 'Extremely Negative' 'Negative' 'Extremely Positive']\n"
          ],
          "name": "stdout"
        }
      ]
    },
    {
      "cell_type": "code",
      "metadata": {
        "colab": {
          "base_uri": "https://localhost:8080/"
        },
        "id": "neMB_357KnZo",
        "outputId": "e24c5cac-2b4b-4f21-c07a-5a0a8c7c6838"
      },
      "source": [
        "# Merging the extreme cases with their parent class\n",
        "for i in range(0,len(data_train)):\n",
        "    if(data_train['Sentiment'][i]=='Extremely Negative'):\n",
        "        data_train['Sentiment'][i]='Negative'\n",
        "    elif(data_train['Sentiment'][i]=='Extremely Positive'):\n",
        "        data_train['Sentiment'][i]='Positive'"
      ],
      "execution_count": 7,
      "outputs": [
        {
          "output_type": "stream",
          "text": [
            "/usr/local/lib/python3.7/dist-packages/ipykernel_launcher.py:4: SettingWithCopyWarning: \n",
            "A value is trying to be set on a copy of a slice from a DataFrame\n",
            "\n",
            "See the caveats in the documentation: https://pandas.pydata.org/pandas-docs/stable/user_guide/indexing.html#returning-a-view-versus-a-copy\n",
            "  after removing the cwd from sys.path.\n",
            "/usr/local/lib/python3.7/dist-packages/ipykernel_launcher.py:6: SettingWithCopyWarning: \n",
            "A value is trying to be set on a copy of a slice from a DataFrame\n",
            "\n",
            "See the caveats in the documentation: https://pandas.pydata.org/pandas-docs/stable/user_guide/indexing.html#returning-a-view-versus-a-copy\n",
            "  \n"
          ],
          "name": "stderr"
        }
      ]
    },
    {
      "cell_type": "code",
      "metadata": {
        "colab": {
          "base_uri": "https://localhost:8080/"
        },
        "id": "8gfgN7WCKwgE",
        "outputId": "c99eeed1-1a6e-4f31-85b0-64194cff5583"
      },
      "source": [
        "print(data_train['Sentiment'].unique())"
      ],
      "execution_count": 8,
      "outputs": [
        {
          "output_type": "stream",
          "text": [
            "['Neutral' 'Positive' 'Negative']\n"
          ],
          "name": "stdout"
        }
      ]
    },
    {
      "cell_type": "code",
      "metadata": {
        "colab": {
          "base_uri": "https://localhost:8080/"
        },
        "id": "6W52JJ6yK0x8",
        "outputId": "21f8fdc1-6bb0-4b63-e633-b41f31a81e97"
      },
      "source": [
        "data_train['Sentiment'].isna().sum()\n"
      ],
      "execution_count": 9,
      "outputs": [
        {
          "output_type": "execute_result",
          "data": {
            "text/plain": [
              "0"
            ]
          },
          "metadata": {},
          "execution_count": 9
        }
      ]
    },
    {
      "cell_type": "code",
      "metadata": {
        "id": "0u9OmATTkvci"
      },
      "source": [
        "# Converting labels to numericals\n",
        "le=LabelEncoder()"
      ],
      "execution_count": 10,
      "outputs": []
    },
    {
      "cell_type": "code",
      "metadata": {
        "id": "6ls4KtUkkxn6"
      },
      "source": [
        "data_train['Sentiment']=le.fit_transform(data_train['Sentiment'])"
      ],
      "execution_count": 11,
      "outputs": []
    },
    {
      "cell_type": "code",
      "metadata": {
        "id": "MRbtxb1Nkx6j"
      },
      "source": [
        "y=pd.get_dummies(data_train['Sentiment'])"
      ],
      "execution_count": 12,
      "outputs": []
    },
    {
      "cell_type": "code",
      "metadata": {
        "colab": {
          "base_uri": "https://localhost:8080/",
          "height": 203
        },
        "id": "pKebXVIYk3QT",
        "outputId": "c7bc2eff-d284-480b-9f98-f10e1b21add5"
      },
      "source": [
        "data_train.head()"
      ],
      "execution_count": 13,
      "outputs": [
        {
          "output_type": "execute_result",
          "data": {
            "text/html": [
              "<div>\n",
              "<style scoped>\n",
              "    .dataframe tbody tr th:only-of-type {\n",
              "        vertical-align: middle;\n",
              "    }\n",
              "\n",
              "    .dataframe tbody tr th {\n",
              "        vertical-align: top;\n",
              "    }\n",
              "\n",
              "    .dataframe thead th {\n",
              "        text-align: right;\n",
              "    }\n",
              "</style>\n",
              "<table border=\"1\" class=\"dataframe\">\n",
              "  <thead>\n",
              "    <tr style=\"text-align: right;\">\n",
              "      <th></th>\n",
              "      <th>UserName</th>\n",
              "      <th>ScreenName</th>\n",
              "      <th>Location</th>\n",
              "      <th>TweetAt</th>\n",
              "      <th>OriginalTweet</th>\n",
              "      <th>Sentiment</th>\n",
              "    </tr>\n",
              "  </thead>\n",
              "  <tbody>\n",
              "    <tr>\n",
              "      <th>0</th>\n",
              "      <td>3799</td>\n",
              "      <td>48751</td>\n",
              "      <td>London</td>\n",
              "      <td>16-03-2020</td>\n",
              "      <td>@MeNyrbie @Phil_Gahan @Chrisitv https://t.co/i...</td>\n",
              "      <td>1</td>\n",
              "    </tr>\n",
              "    <tr>\n",
              "      <th>1</th>\n",
              "      <td>3800</td>\n",
              "      <td>48752</td>\n",
              "      <td>UK</td>\n",
              "      <td>16-03-2020</td>\n",
              "      <td>advice Talk to your neighbours family to excha...</td>\n",
              "      <td>2</td>\n",
              "    </tr>\n",
              "    <tr>\n",
              "      <th>2</th>\n",
              "      <td>3801</td>\n",
              "      <td>48753</td>\n",
              "      <td>Vagabonds</td>\n",
              "      <td>16-03-2020</td>\n",
              "      <td>Coronavirus Australia: Woolworths to give elde...</td>\n",
              "      <td>2</td>\n",
              "    </tr>\n",
              "    <tr>\n",
              "      <th>3</th>\n",
              "      <td>3802</td>\n",
              "      <td>48754</td>\n",
              "      <td>NaN</td>\n",
              "      <td>16-03-2020</td>\n",
              "      <td>My food stock is not the only one which is emp...</td>\n",
              "      <td>2</td>\n",
              "    </tr>\n",
              "    <tr>\n",
              "      <th>4</th>\n",
              "      <td>3803</td>\n",
              "      <td>48755</td>\n",
              "      <td>NaN</td>\n",
              "      <td>16-03-2020</td>\n",
              "      <td>Me, ready to go at supermarket during the #COV...</td>\n",
              "      <td>0</td>\n",
              "    </tr>\n",
              "  </tbody>\n",
              "</table>\n",
              "</div>"
            ],
            "text/plain": [
              "   UserName  ...  Sentiment\n",
              "0      3799  ...          1\n",
              "1      3800  ...          2\n",
              "2      3801  ...          2\n",
              "3      3802  ...          2\n",
              "4      3803  ...          0\n",
              "\n",
              "[5 rows x 6 columns]"
            ]
          },
          "metadata": {},
          "execution_count": 13
        }
      ]
    },
    {
      "cell_type": "code",
      "metadata": {
        "colab": {
          "base_uri": "https://localhost:8080/"
        },
        "id": "hAn9q5EmlNJi",
        "outputId": "19844187-b3bd-4deb-93f0-2d9215303e84"
      },
      "source": [
        "print(le.inverse_transform([0,1,2]))"
      ],
      "execution_count": 14,
      "outputs": [
        {
          "output_type": "stream",
          "text": [
            "['Negative' 'Neutral' 'Positive']\n"
          ],
          "name": "stdout"
        }
      ]
    },
    {
      "cell_type": "code",
      "metadata": {
        "id": "5wqSLAlHlYRB"
      },
      "source": [
        "n=0\n",
        "ne=0\n",
        "p=0"
      ],
      "execution_count": 15,
      "outputs": []
    },
    {
      "cell_type": "code",
      "metadata": {
        "id": "n6PTscfrlaq7"
      },
      "source": [
        "for i in range(0,len(data_train)):\n",
        "    if(data_train['Sentiment'][i]==0):\n",
        "        n=n+1\n",
        "    elif(data_train['Sentiment'][i]==1):\n",
        "        ne=ne+1\n",
        "    elif(data_train['Sentiment'][i]==2):\n",
        "        p=p+1"
      ],
      "execution_count": 16,
      "outputs": []
    },
    {
      "cell_type": "code",
      "metadata": {
        "colab": {
          "base_uri": "https://localhost:8080/"
        },
        "id": "Z8PDJ_EMl7mB",
        "outputId": "9e4004c6-5f56-4bee-9f66-8db2828ab36d"
      },
      "source": [
        "# Total data for each class\n",
        "print('Total Labels belonging to Negative Category are ',n)\n",
        "print('Total Labels belonging to Neutral Category are ',ne)\n",
        "print('Total Labels belonging to Positive Category are ',p)"
      ],
      "execution_count": 17,
      "outputs": [
        {
          "output_type": "stream",
          "text": [
            "Total Labels belonging to Negative Category are  15398\n",
            "Total Labels belonging to Neutral Category are  7713\n",
            "Total Labels belonging to Positive Category are  18046\n"
          ],
          "name": "stdout"
        }
      ]
    },
    {
      "cell_type": "code",
      "metadata": {
        "colab": {
          "base_uri": "https://localhost:8080/"
        },
        "id": "AVGYesoAm0jp",
        "outputId": "d3990628-d43f-4d0c-c851-cef097f1c882"
      },
      "source": [
        "print('Total entries in the train dataset is ',len(data_train))"
      ],
      "execution_count": 18,
      "outputs": [
        {
          "output_type": "stream",
          "text": [
            "Total entries in the train dataset is  41157\n"
          ],
          "name": "stdout"
        }
      ]
    },
    {
      "cell_type": "code",
      "metadata": {
        "id": "vdMK1Y9Hm24r"
      },
      "source": [
        "##Segregating the tweet class from their original dataset\n",
        "X=data_train.iloc[:,4]"
      ],
      "execution_count": 19,
      "outputs": []
    },
    {
      "cell_type": "code",
      "metadata": {
        "id": "pMZt3jXLm5is"
      },
      "source": [
        "\n",
        "train_text,validation_text,train_labels,validation_labels=train_test_split(X.to_numpy(),y.to_numpy(),test_size=0.2,random_state=42)"
      ],
      "execution_count": 20,
      "outputs": []
    },
    {
      "cell_type": "code",
      "metadata": {
        "colab": {
          "base_uri": "https://localhost:8080/"
        },
        "id": "kyTJV4J6nA66",
        "outputId": "5e5917f8-516d-41e1-dd39-325a84d230ed"
      },
      "source": [
        "##printing validation labels to check if they are in one hot encoded form or not\n",
        "validation_labels"
      ],
      "execution_count": 21,
      "outputs": [
        {
          "output_type": "execute_result",
          "data": {
            "text/plain": [
              "array([[0, 1, 0],\n",
              "       [1, 0, 0],\n",
              "       [0, 0, 1],\n",
              "       ...,\n",
              "       [1, 0, 0],\n",
              "       [0, 1, 0],\n",
              "       [1, 0, 0]], dtype=uint8)"
            ]
          },
          "metadata": {},
          "execution_count": 21
        }
      ]
    },
    {
      "cell_type": "code",
      "metadata": {
        "colab": {
          "base_uri": "https://localhost:8080/"
        },
        "id": "hyCBJ9HNnDF_",
        "outputId": "e3014635-9e17-4129-e53b-cb6da4ea02f0"
      },
      "source": [
        "type(train_text)"
      ],
      "execution_count": 22,
      "outputs": [
        {
          "output_type": "execute_result",
          "data": {
            "text/plain": [
              "numpy.ndarray"
            ]
          },
          "metadata": {},
          "execution_count": 22
        }
      ]
    },
    {
      "cell_type": "code",
      "metadata": {
        "id": "9m3RdyK2nGP_"
      },
      "source": [
        "# Cleaning textual data(Removing Hashtags,Mentions,Links,etc)\n",
        "for i in range(0,len(train_text)):\n",
        "    temp=train_text[i]\n",
        "    temp=re.sub(\"@\\S+\", \" \", temp)\n",
        "    temp=re.sub(\"https*\\S+\", \" \", temp)\n",
        "    temp=re.sub(\"#\\S+\", \" \", temp)\n",
        "    temp=re.sub(\"\\'\\w+\", '', temp)\n",
        "    temp=re.sub('[%s]' % re.escape(string.punctuation), ' ', temp)\n",
        "    temp=re.sub(r'\\w*\\d+\\w*', '', temp)\n",
        "    temp=re.sub('\\s{2,}', \" \", temp)\n",
        "    train_text[i]=temp\n",
        "    ##print(temp)"
      ],
      "execution_count": 23,
      "outputs": []
    },
    {
      "cell_type": "code",
      "metadata": {
        "id": "NwqKqPa1nPZg"
      },
      "source": [
        "for i in range(0,len(validation_text)):\n",
        "    temp=validation_text[i]\n",
        "    temp=re.sub(\"@\\S+\", \" \", temp)\n",
        "    temp=re.sub(\"https*\\S+\", \" \", temp)\n",
        "    temp=re.sub(\"#\\S+\", \" \", temp)\n",
        "    temp=re.sub(\"\\'\\w+\", '', temp)\n",
        "    temp=re.sub('[%s]' % re.escape(string.punctuation), ' ', temp)\n",
        "    temp=re.sub(r'\\w*\\d+\\w*', '', temp)\n",
        "    temp=re.sub('\\s{2,}', \" \", temp)\n",
        "    validation_text[i]=temp\n",
        "    ##print(temp)"
      ],
      "execution_count": 24,
      "outputs": []
    },
    {
      "cell_type": "code",
      "metadata": {
        "colab": {
          "base_uri": "https://localhost:8080/"
        },
        "id": "5FGL9qTpnU_h",
        "outputId": "8bf355c3-347d-455e-9241-7c22ae53648d"
      },
      "source": [
        "# Print some random strings to check if the data has been preprocessed and cleaned well\n",
        "for i in range(0,10):\n",
        "    print('New Tweet')\n",
        "    print('***********')\n",
        "    random_number=random.randint(0,len(train_text)-1)\n",
        "    print(train_text[random_number])"
      ],
      "execution_count": 25,
      "outputs": [
        {
          "output_type": "stream",
          "text": [
            "New Tweet\n",
            "***********\n",
            " I know is out for ratings and billionaires just look at how much made when he drove down the price of stocks just to buy them at lower prices But letÂs speak facts \n",
            "New Tweet\n",
            "***********\n",
            "Strangers stepping in to help one another during COVID pandemic Strangers stepping in to help one another during COVID pandemic Lauren Verno Consumer investigative reporter Published March \n",
            "New Tweet\n",
            "***********\n",
            "PLEASE STAY HOME or not STAY HOME Pharamacy yes Grocery store yes Cocktails with friends NO Basketball games NO STAY HOME Please\n",
            "New Tweet\n",
            "***********\n",
            "As of this morning we had price gouging complaints to our consumer unit Agents with my office are in the process of following up on every one of them Watch my interview w on what to do if you suspect price gouging \n",
            "New Tweet\n",
            "***********\n",
            "How cheap consumer products in this case a decathlon snorkelling mask and some lateral thinking can help in the fight against \n",
            "New Tweet\n",
            "***********\n",
            "Finally made it into our local supermarket Plenty of important notices dotted throughout the store \n",
            "New Tweet\n",
            "***********\n",
            "Was at the supermarket just now DÃ¼sseldorf Germany Covid cases in inhabitants but Germany tests only if you know a confirmed case Was of people with masks Supermarket was business as usual \n",
            "New Tweet\n",
            "***********\n",
            "Food delivery drivers are in high demand amid the stay at home order but now there is a circulating targeting drivers warns\n",
            "New Tweet\n",
            "***********\n",
            "Industry Companies Shift Focus to Providing PPE Sanitizer During COVID Pandemic \n",
            "New Tweet\n",
            "***********\n",
            "If I catch anyone buying like a hoarder in the supermarket I will publicly shame you \n"
          ],
          "name": "stdout"
        }
      ]
    },
    {
      "cell_type": "code",
      "metadata": {
        "colab": {
          "base_uri": "https://localhost:8080/"
        },
        "id": "Z02zRjiUnZaj",
        "outputId": "4c2e33f2-e932-4481-c94f-29646473f69b"
      },
      "source": [
        "for i in range(0,10):\n",
        "    print('New Tweet')\n",
        "    print('***********')\n",
        "    random_number=random.randint(0,len(validation_text)-1)\n",
        "    print(validation_text[random_number])"
      ],
      "execution_count": 26,
      "outputs": [
        {
          "output_type": "stream",
          "text": [
            "New Tweet\n",
            "***********\n",
            "Why we stock up on water cause utility companies will shut you off in the middle of a pandemic the schools close thier doors you lose out on work cause your kid has no where to go and you canÂt afford months worth of food \n",
            "New Tweet\n",
            "***********\n",
            "Are Gift Cards the War Bonds of the COVIDÂ Era Maybe So but Issuers Still Need to Consider the Consumer Protection Laws \n",
            "New Tweet\n",
            "***********\n",
            "Covid is changing the world as we know it The ability to adapt a Digital Marketing is crucial to create meaningful content and Content such as recipes DIY projects home workouts livestreams online shopping and e learning are some ideas \n",
            "New Tweet\n",
            "***********\n",
            " In China people must use the similar App to scan a QR code before taking any public transit shopping in mall or supermarket entering any office building You can be traceable if they found a covid cases \n",
            "New Tweet\n",
            "***********\n",
            "Will the epidemic harm UK \n",
            "New Tweet\n",
            "***********\n",
            " ÂCOVID  Â gt \n",
            "New Tweet\n",
            "***********\n",
            "I hope this makes Americans more Asian culturally and by that I mean face masks when sick bowing instead of handshakes and bidets toilets that makes us have no needs for Japan even has an intense respect for that the US could use now \n",
            "New Tweet\n",
            "***********\n",
            "Covid India unable to take full advantage of drop in oil prices\n",
            "New Tweet\n",
            "***********\n",
            "The for the day is about the at \n",
            "New Tweet\n",
            "***********\n",
            "Check out my latest article How does the COVID outbreak accelerate shopping centersÂ omnichannel experiments I Â Some early attempts online via \n"
          ],
          "name": "stdout"
        }
      ]
    },
    {
      "cell_type": "code",
      "metadata": {
        "colab": {
          "base_uri": "https://localhost:8080/"
        },
        "id": "-Vw2pUySnaxA",
        "outputId": "9d5c4323-38ed-4cee-c8db-3f4457355231"
      },
      "source": [
        "type(train_text)"
      ],
      "execution_count": 27,
      "outputs": [
        {
          "output_type": "execute_result",
          "data": {
            "text/plain": [
              "numpy.ndarray"
            ]
          },
          "metadata": {},
          "execution_count": 27
        }
      ]
    },
    {
      "cell_type": "code",
      "metadata": {
        "id": "dPb8ghKYnjdI"
      },
      "source": [
        "sum_length_of_tweet=0"
      ],
      "execution_count": 28,
      "outputs": []
    },
    {
      "cell_type": "code",
      "metadata": {
        "id": "T-1entIMnlNK"
      },
      "source": [
        "##finding the average length of each tweet\n",
        "for i in X:\n",
        "    temp=i\n",
        "    sum_length_of_tweet=sum_length_of_tweet+len(temp.split())"
      ],
      "execution_count": 29,
      "outputs": []
    },
    {
      "cell_type": "code",
      "metadata": {
        "id": "NHC93Dhsnm2N"
      },
      "source": [
        "max_length=round(sum_length_of_tweet/len(X))"
      ],
      "execution_count": 30,
      "outputs": []
    },
    {
      "cell_type": "code",
      "metadata": {
        "colab": {
          "base_uri": "https://localhost:8080/"
        },
        "id": "QgqNZhScnoc5",
        "outputId": "88440e4a-eaa9-4681-8d65-83ff128c2d86"
      },
      "source": [
        "print(max_length)"
      ],
      "execution_count": 31,
      "outputs": [
        {
          "output_type": "stream",
          "text": [
            "31\n"
          ],
          "name": "stdout"
        }
      ]
    },
    {
      "cell_type": "code",
      "metadata": {
        "id": "5NYD76Uonpye"
      },
      "source": [
        "# Tokenization and Padding the textual data\n",
        "Tokenizer?"
      ],
      "execution_count": 32,
      "outputs": []
    },
    {
      "cell_type": "code",
      "metadata": {
        "id": "VsLhxwLansGK"
      },
      "source": [
        "tokenizer=Tokenizer(num_words=10000,oov_token='</OOV>')"
      ],
      "execution_count": 33,
      "outputs": []
    },
    {
      "cell_type": "code",
      "metadata": {
        "colab": {
          "base_uri": "https://localhost:8080/"
        },
        "id": "jSeyGWh6n26L",
        "outputId": "f1c159e6-5e00-4a6b-e26a-a820e95e2d5a"
      },
      "source": [
        "len(tokenizer.word_index)"
      ],
      "execution_count": 34,
      "outputs": [
        {
          "output_type": "execute_result",
          "data": {
            "text/plain": [
              "0"
            ]
          },
          "metadata": {},
          "execution_count": 34
        }
      ]
    },
    {
      "cell_type": "code",
      "metadata": {
        "id": "69Mqf8IY4qO4"
      },
      "source": [
        "tokenizer.fit_on_texts(train_text)"
      ],
      "execution_count": 35,
      "outputs": []
    },
    {
      "cell_type": "code",
      "metadata": {
        "id": "Ctkk5e9w43O7"
      },
      "source": [
        "train_text_sequences=tokenizer.texts_to_sequences(train_text)"
      ],
      "execution_count": 36,
      "outputs": []
    },
    {
      "cell_type": "code",
      "metadata": {
        "id": "Lkq_XeFv59j2"
      },
      "source": [
        "train_text_padded=pad_sequences(train_text_sequences,maxlen=max_length,padding='post')"
      ],
      "execution_count": 37,
      "outputs": []
    },
    {
      "cell_type": "code",
      "metadata": {
        "id": "B4Sa2K_S5fQ6"
      },
      "source": [
        "validation_text_sequences=tokenizer.texts_to_sequences(validation_text)"
      ],
      "execution_count": 38,
      "outputs": []
    },
    {
      "cell_type": "code",
      "metadata": {
        "id": "Okxy_0Ri5iy-"
      },
      "source": [
        "validation_text_padded=pad_sequences(validation_text_sequences,maxlen=max_length,padding='post')"
      ],
      "execution_count": 39,
      "outputs": []
    },
    {
      "cell_type": "code",
      "metadata": {
        "colab": {
          "base_uri": "https://localhost:8080/"
        },
        "id": "-CpfsrQA5kw-",
        "outputId": "e8ce9861-5009-469e-849b-b46f6db2e936"
      },
      "source": [
        "# Printings some random examples to check the function\n",
        "for i in range(0,10):\n",
        "    index=random.randint(0,len(train_text)-1)\n",
        "    print('Original Sentence')\n",
        "    print('*******')\n",
        "    print(train_text[index])\n",
        "    print('Padded Sentence')\n",
        "    print('*********')\n",
        "    print(train_text_padded[index])"
      ],
      "execution_count": 40,
      "outputs": [
        {
          "output_type": "stream",
          "text": [
            "Original Sentence\n",
            "*******\n",
            "Coronavirus concerns drag consumer confidence in Africa \n",
            "Padded Sentence\n",
            "*********\n",
            "[  79  707 5243   36  713    6 1575    0    0    0    0    0    0    0\n",
            "    0    0    0    0    0    0    0    0    0    0    0    0    0    0\n",
            "    0    0    0]\n",
            "Original Sentence\n",
            "*******\n",
            "i never realized how much my face itched at the grocery store before the \n",
            "Padded Sentence\n",
            "*********\n",
            "[  12  294 2963   51  171   37  196    1   16    2   26   18  176    2\n",
            "    0    0    0    0    0    0    0    0    0    0    0    0    0    0\n",
            "    0    0    0]\n",
            "Original Sentence\n",
            "*******\n",
            "Headed to the grocery store wish me luck Aliso Viejo California \n",
            "Padded Sentence\n",
            "*********\n",
            "[3251    3    2   26   18 1026   86 2625    1    1 1016    0    0    0\n",
            "    0    0    0    0    0    0    0    0    0    0    0    0    0    0\n",
            "    0    0    0]\n",
            "Original Sentence\n",
            "*******\n",
            "Out of stores of are closed amp rest selling only essential items That is one of the reasons the stock is in lower circuit today Supermarket chains like Reliance Fresh Heritage Fresh and local chain Ratnadeep in Hyd are open all days\n",
            "Padded Sentence\n",
            "*********\n",
            "[ 180   24    9   84    5    2 1987    2   83    9    6  434 6116  109\n",
            "   22  430   68 3690  540    1  540    4  106  264    1    6 7297   10\n",
            "  207   32  199]\n",
            "Original Sentence\n",
            "*******\n",
            " fly the colours Repurpose your scarf when out in the supermarket you may be infected donÂt spread Join the Scarf Miele cloth vacuum bag inner Hot glue gun \n",
            "Padded Sentence\n",
            "*********\n",
            "[4433    2 6334    1   33 5783   74   42    6    2   22   13  169   28\n",
            "  778  216  163  515    2 5783    1 3755 6017 1215 5084 1344    1 2310\n",
            "    0    0    0]\n",
            "Original Sentence\n",
            "*******\n",
            "New York s workers who are sick with COVID deserve easy access to workers compensation benefits Share our petition and join us as we call for all workers from nurses to doctors airport workers to grocery store clerks are protected\n",
            "Padded Sentence\n",
            "*********\n",
            "[1140  970  444    3   64 3983  901  356   40 1576    4  515   72   27\n",
            "   20  307    8   32   64   30  499    3  459 3117   64    3   26   18\n",
            "  893   10 1974]\n",
            "Original Sentence\n",
            "*******\n",
            " offers T P and paper towels during with Groceries Go Thank you for including us on your latest roundup Via \n",
            "Padded Sentence\n",
            "*********\n",
            "[1008  136 1071    4  104 1652   53   21  328   76  161   13    8  420\n",
            "   72   14   33  331 5699  112    0    0    0    0    0    0    0    0\n",
            "    0    0    0]\n",
            "Original Sentence\n",
            "*******\n",
            "Some where trying to find and buy toilet paper Lysol and water because people have lost their minds at the grocery store Memphis Â \n",
            "Padded Sentence\n",
            "*********\n",
            "[  77  195  285    3  188    4  111  100  104 1949    4  373  102   29\n",
            "   25  657   52 3852   16    2   26   18    1  842    0    0    0    0\n",
            "    0    0    0]\n",
            "Original Sentence\n",
            "*******\n",
            "We have enough global supplies according to the and must commit to not stock piling or banning exports or we ll be threatening the of the world s poorest communities\n",
            "Padded Sentence\n",
            "*********\n",
            "[  20   25  241  203  184  779    3    2    4  274 4541    3   34   83\n",
            " 1672   44 3651 2105   44   20 1024   28 3002    2    5    2  152   78\n",
            " 7251  863    0]\n",
            "Original Sentence\n",
            "*******\n",
            "Lockdown Day Great Recession killed a number of well known stores Remember Gottchalks Mervyns Circuit City Borders Recently online shopping Toys R Us out of business How many will succumb due to COVID recession \n",
            "Padded Sentence\n",
            "*********\n",
            "[ 809 2243    7  473    5  191 2333  117  404    1    1 6116  509 2912\n",
            " 1272   49   50 3599  983   72   42    5  168   51  116   35    1   87\n",
            "    3   11  809]\n"
          ],
          "name": "stdout"
        }
      ]
    },
    {
      "cell_type": "code",
      "metadata": {
        "colab": {
          "base_uri": "https://localhost:8080/"
        },
        "id": "V5ur_DCG5m4Q",
        "outputId": "674e7ce4-a4f7-45d6-d432-a35c2ca9de3d"
      },
      "source": [
        "for i in range(0,10):\n",
        "    index=random.randint(0,len(validation_text)-1)\n",
        "    print('Original Sentence')\n",
        "    print('*******')\n",
        "    print(validation_text[index])\n",
        "    print('Padded Sentence')\n",
        "    print('*********')\n",
        "    print(validation_text_padded[index])"
      ],
      "execution_count": 41,
      "outputs": [
        {
          "output_type": "stream",
          "text": [
            "Original Sentence\n",
            "*******\n",
            "Positives from the Pandemic Rediscovering local butchers and grocers No crowds no panic buyers plenty of good quality food on offer and the real sense of supporting smaller businesses at this time \n",
            "Padded Sentence\n",
            "*********\n",
            "[  30    2   62    1  106 4372    4 1993   56 1533   56   65  671  686\n",
            "    5  158 1289   19   14  673    4    2  319  969    5 1136 2504  223\n",
            "   16   15   66]\n",
            "Original Sentence\n",
            "*******\n",
            " Amazing healthcare staff coming up with ways to educate people \n",
            "Padded Sentence\n",
            "*********\n",
            "[ 870  388  138  343   41   21  632    3 4563   29    0    0    0    0\n",
            "    0    0    0    0    0    0    0    0    0    0    0    0    0    0\n",
            "    0    0    0]\n",
            "Original Sentence\n",
            "*******\n",
            "Ask about our new policies during these sensitive times DM for prices and availability \n",
            "Padded Sentence\n",
            "*********\n",
            "[ 606   59   40   91 1976   53  101 4831  182 1397    8   17    4 1750\n",
            "    0    0    0    0    0    0    0    0    0    0    0    0    0    0\n",
            "    0    0    0]\n",
            "Original Sentence\n",
            "*******\n",
            "Apparently there s more to surviving than just and\n",
            "Padded Sentence\n",
            "*********\n",
            "[1164   71   78   46    3 3223  103   63    4    0    0    0    0    0\n",
            "    0    0    0    0    0    0    0    0    0    0    0    0    0    0\n",
            "    0    0    0]\n",
            "Original Sentence\n",
            "*******\n",
            "On a trip to the supermarket noticed music blaring from several windows Just in case neighbours don have the same taste in music maybe wear headphones Don need to wait for the govt to tell you to do it \n",
            "Padded Sentence\n",
            "*********\n",
            "[   1   30  853 4436   63    6  578 2596  114   25    2  289 2287    6\n",
            " 2085  622  485    1  114   60    3  534    8    2  508    3  562   13\n",
            "    3   67   23]\n",
            "Original Sentence\n",
            "*******\n",
            " Kindly review your token prices taking into account People are trying to stock up on necessities There is no money going around What are you doing to stand by your loyal players now \n",
            "Padded Sentence\n",
            "*********\n",
            "[  33    1   17  250  131 1235   29   10  285    3   83   41   14 1329\n",
            "   71    9   56  229   85  200   58   10   13  183    3  952   45   33\n",
            " 5079 2431   55]\n",
            "Original Sentence\n",
            "*******\n",
            "The pandemic has led to a wave of event cancellations If youÂre having issues securing remedies promised by an entity from which you bought tickets our Consumer Protection Division may be able to help you More information \n",
            "Padded Sentence\n",
            "*********\n",
            "[1853    5 1361 2382   48  535  325  667 7227    1 3940   45   75 6438\n",
            "   30  173   13  470 2719   40   36  381 3095  169   28  351    3   81\n",
            "   13   46  377]\n",
            "Original Sentence\n",
            "*******\n",
            " This post examines the impact of corruption corona virus spread amp collapse of oil prices on Iraq The crisis offers Iraq October Revolution driven by youth the opportunity organize post Covid elections enact democratic refor\n",
            "Padded Sentence\n",
            "*********\n",
            "[ 178    5 4795  417  153  163   31  828    5   96   17   14 3209    2\n",
            "   93 1008 3209 4435 5494 1234   45 3312    2 1060 6848  295   11 3995\n",
            " 5219 5495    1]\n",
            "Original Sentence\n",
            "*******\n",
            " Gilead Sciences the company producing remdesivir the most promising drug to treat Covid symptoms is one such firm facing investor pressure to raise prices Price gouging during any time of crisis is despicable \n",
            "Padded Sentence\n",
            "*********\n",
            "[   2  397 1350    1    2  157 6834  648    3 1243   11  844    9   84\n",
            "  313 2043  603 4670 1180    3  753   17  145  552   53  142   66    5\n",
            "   93    9 4427]\n",
            "Original Sentence\n",
            "*******\n",
            " Grocery store aisles should be one way otherwise no one can follow social distancing \n",
            "Padded Sentence\n",
            "*********\n",
            "[  26   18 1000  107   28   84  159 1692   56   84   38  553  140  206\n",
            "    0    0    0    0    0    0    0    0    0    0    0    0    0    0\n",
            "    0    0    0]\n"
          ],
          "name": "stdout"
        }
      ]
    },
    {
      "cell_type": "code",
      "metadata": {
        "colab": {
          "base_uri": "https://localhost:8080/"
        },
        "id": "QaUGFiDI6BXc",
        "outputId": "42ea6156-4cfe-469a-ca74-93eceac01543"
      },
      "source": [
        "train_text_padded.shape[1]"
      ],
      "execution_count": 42,
      "outputs": [
        {
          "output_type": "execute_result",
          "data": {
            "text/plain": [
              "31"
            ]
          },
          "metadata": {},
          "execution_count": 42
        }
      ]
    },
    {
      "cell_type": "code",
      "metadata": {
        "colab": {
          "base_uri": "https://localhost:8080/"
        },
        "id": "tMBYht64Dvo4",
        "outputId": "cd99bcaa-ef18-49da-e75b-b69f682b72f0"
      },
      "source": [
        "# Building models using tf.keras \n",
        "# Baseline Model\n",
        "model_1=tf.keras.models.Sequential([\n",
        "    tf.keras.layers.Embedding(10000,128,input_length=train_text_padded.shape[1]),\n",
        "    tf.keras.layers.GlobalAveragePooling1D(),\n",
        "    tf.keras.layers.Dense(16,activation='relu'),\n",
        "    tf.keras.layers.Dense(8,activation='relu'),\n",
        "    tf.keras.layers.Dense(3,activation='softmax')\n",
        "])\n",
        "model_1.compile(loss=tf.keras.losses.CategoricalCrossentropy(),optimizer=tf.keras.optimizers.Adam(),metrics=['accuracy'])\n",
        "history_2=model_1.fit(train_text_padded,train_labels,epochs=4,validation_data=(validation_text_padded,validation_labels))"
      ],
      "execution_count": 66,
      "outputs": [
        {
          "output_type": "stream",
          "text": [
            "Epoch 1/4\n",
            "1029/1029 [==============================] - 25s 24ms/step - loss: 0.7547 - accuracy: 0.6590 - val_loss: 0.5685 - val_accuracy: 0.7767\n",
            "Epoch 2/4\n",
            "1029/1029 [==============================] - 24s 23ms/step - loss: 0.4211 - accuracy: 0.8507 - val_loss: 0.5033 - val_accuracy: 0.8126\n",
            "Epoch 3/4\n",
            "1029/1029 [==============================] - 24s 23ms/step - loss: 0.3198 - accuracy: 0.8929 - val_loss: 0.5161 - val_accuracy: 0.8100\n",
            "Epoch 4/4\n",
            "1029/1029 [==============================] - 24s 23ms/step - loss: 0.2661 - accuracy: 0.9129 - val_loss: 0.5443 - val_accuracy: 0.8139\n"
          ],
          "name": "stdout"
        }
      ]
    },
    {
      "cell_type": "code",
      "metadata": {
        "colab": {
          "base_uri": "https://localhost:8080/"
        },
        "id": "z71SK2my-GJ2",
        "outputId": "f9d26a03-2378-4b1e-a7f2-9f27fdeae4db"
      },
      "source": [
        "# Building LSTM Model\n",
        "# Accuracy improves to ~85% on the validation dataset while using LSTM Based Architecture\n",
        "model=tf.keras.models.Sequential([\n",
        "    tf.keras.layers.Embedding(10000,128,input_length=train_text_padded.shape[1]),\n",
        "    tf.keras.layers.LSTM(512),\n",
        "    tf.keras.layers.Dense(256,activation='relu'),\n",
        "    tf.keras.layers.Dense(128,activation='relu'),\n",
        "    tf.keras.layers.Dense(32,activation='relu'),\n",
        "    tf.keras.layers.Dense(3,activation='softmax')\n",
        "])\n",
        "model.compile(loss=tf.keras.losses.CategoricalCrossentropy(),optimizer=tf.keras.optimizers.Adam(),metrics=['accuracy'])\n",
        "history_4=model.fit(train_text_padded,train_labels,epochs=4,validation_data=(validation_text_padded,validation_labels))"
      ],
      "execution_count": 67,
      "outputs": [
        {
          "output_type": "stream",
          "text": [
            "Epoch 1/4\n",
            "1029/1029 [==============================] - 477s 461ms/step - loss: 0.7586 - accuracy: 0.6465 - val_loss: 0.5009 - val_accuracy: 0.8243\n",
            "Epoch 2/4\n",
            "1029/1029 [==============================] - 508s 494ms/step - loss: 0.4001 - accuracy: 0.8614 - val_loss: 0.4220 - val_accuracy: 0.8496\n",
            "Epoch 3/4\n",
            "1029/1029 [==============================] - 482s 468ms/step - loss: 0.2888 - accuracy: 0.9019 - val_loss: 0.4233 - val_accuracy: 0.8576\n",
            "Epoch 4/4\n",
            "1029/1029 [==============================] - 481s 467ms/step - loss: 0.2167 - accuracy: 0.9279 - val_loss: 0.4528 - val_accuracy: 0.8554\n"
          ],
          "name": "stdout"
        }
      ]
    },
    {
      "cell_type": "code",
      "metadata": {
        "colab": {
          "base_uri": "https://localhost:8080/"
        },
        "id": "4rvuMpPt7QiU",
        "outputId": "2ad22b43-e016-4807-d488-ad4fa589477e"
      },
      "source": [
        "len(train_text_padded[0])"
      ],
      "execution_count": 44,
      "outputs": [
        {
          "output_type": "execute_result",
          "data": {
            "text/plain": [
              "31"
            ]
          },
          "metadata": {},
          "execution_count": 44
        }
      ]
    },
    {
      "cell_type": "code",
      "metadata": {
        "colab": {
          "base_uri": "https://localhost:8080/"
        },
        "id": "M76V0XBz9_8H",
        "outputId": "2a38da06-197e-4946-990f-c2d321d07009"
      },
      "source": [
        "model.summary()\n"
      ],
      "execution_count": 45,
      "outputs": [
        {
          "output_type": "stream",
          "text": [
            "Model: \"sequential\"\n",
            "_________________________________________________________________\n",
            "Layer (type)                 Output Shape              Param #   \n",
            "=================================================================\n",
            "embedding (Embedding)        (None, 31, 128)           1280000   \n",
            "_________________________________________________________________\n",
            "lstm (LSTM)                  (None, 512)               1312768   \n",
            "_________________________________________________________________\n",
            "dense (Dense)                (None, 256)               131328    \n",
            "_________________________________________________________________\n",
            "dense_1 (Dense)              (None, 128)               32896     \n",
            "_________________________________________________________________\n",
            "dense_2 (Dense)              (None, 32)                4128      \n",
            "_________________________________________________________________\n",
            "dense_3 (Dense)              (None, 3)                 99        \n",
            "=================================================================\n",
            "Total params: 2,761,219\n",
            "Trainable params: 2,761,219\n",
            "Non-trainable params: 0\n",
            "_________________________________________________________________\n"
          ],
          "name": "stdout"
        }
      ]
    },
    {
      "cell_type": "code",
      "metadata": {
        "id": "LowAcT-CZl9i"
      },
      "source": [
        "# Trying Universal Sentence Encoder from TensorHub\n",
        "# embed = hub.load(\"https://tfhub.dev/google/universal-sentence-encoder/4\")"
      ],
      "execution_count": 46,
      "outputs": []
    },
    {
      "cell_type": "code",
      "metadata": {
        "id": "3MqJpYcWZnpu"
      },
      "source": [
        "# train_embed = embed(train_text)\n",
        "# test_embed = embed(validation_text)"
      ],
      "execution_count": 47,
      "outputs": []
    },
    {
      "cell_type": "code",
      "metadata": {
        "colab": {
          "base_uri": "https://localhost:8080/"
        },
        "id": "Z7NULmUqZ8Zh",
        "outputId": "80221256-dac9-4dff-e5d5-adef4f833608"
      },
      "source": [
        "# len(train_embed[0])"
      ],
      "execution_count": 48,
      "outputs": [
        {
          "output_type": "execute_result",
          "data": {
            "text/plain": [
              "512"
            ]
          },
          "metadata": {},
          "execution_count": 48
        }
      ]
    },
    {
      "cell_type": "code",
      "metadata": {
        "id": "ycjVYSThbj4L"
      },
      "source": [
        "data_test"
      ],
      "execution_count": 68,
      "outputs": []
    },
    {
      "cell_type": "code",
      "metadata": {
        "colab": {
          "base_uri": "https://localhost:8080/"
        },
        "id": "0ObEe7_u2z2i",
        "outputId": "8c51e097-c65c-4929-dc81-5bbaa86f7be5"
      },
      "source": [
        "data_test.iloc[:,4]"
      ],
      "execution_count": 50,
      "outputs": [
        {
          "output_type": "execute_result",
          "data": {
            "text/plain": [
              "0       TRENDING: New Yorkers encounter empty supermar...\n",
              "1       When I couldn't find hand sanitizer at Fred Me...\n",
              "2       Find out how you can protect yourself and love...\n",
              "3       #Panic buying hits #NewYork City as anxious sh...\n",
              "4       #toiletpaper #dunnypaper #coronavirus #coronav...\n",
              "                              ...                        \n",
              "3793    Meanwhile In A Supermarket in Israel -- People...\n",
              "3794    Did you panic buy a lot of non-perishable item...\n",
              "3795    Asst Prof of Economics @cconces was on @NBCPhi...\n",
              "3796    Gov need to do somethings instead of biar je r...\n",
              "3797    I and @ForestandPaper members are committed to...\n",
              "Name: OriginalTweet, Length: 3798, dtype: object"
            ]
          },
          "metadata": {},
          "execution_count": 50
        }
      ]
    },
    {
      "cell_type": "code",
      "metadata": {
        "colab": {
          "base_uri": "https://localhost:8080/"
        },
        "id": "t0Rw943h23Av",
        "outputId": "26cbe552-343b-4420-ae87-320c0d4c2c56"
      },
      "source": [
        "for i in range(0,len(data_test)):\n",
        "    if(data_test['Sentiment'][i]=='Extremely Negative'):\n",
        "        data_test['Sentiment'][i]='Negative'\n",
        "    elif(data_test['Sentiment'][i]=='Extremely Positive'):\n",
        "        data_test['Sentiment'][i]='Positive'"
      ],
      "execution_count": 51,
      "outputs": [
        {
          "output_type": "stream",
          "text": [
            "/usr/local/lib/python3.7/dist-packages/ipykernel_launcher.py:3: SettingWithCopyWarning: \n",
            "A value is trying to be set on a copy of a slice from a DataFrame\n",
            "\n",
            "See the caveats in the documentation: https://pandas.pydata.org/pandas-docs/stable/user_guide/indexing.html#returning-a-view-versus-a-copy\n",
            "  This is separate from the ipykernel package so we can avoid doing imports until\n",
            "/usr/local/lib/python3.7/dist-packages/ipykernel_launcher.py:5: SettingWithCopyWarning: \n",
            "A value is trying to be set on a copy of a slice from a DataFrame\n",
            "\n",
            "See the caveats in the documentation: https://pandas.pydata.org/pandas-docs/stable/user_guide/indexing.html#returning-a-view-versus-a-copy\n",
            "  \"\"\"\n"
          ],
          "name": "stderr"
        }
      ]
    },
    {
      "cell_type": "code",
      "metadata": {
        "id": "jrdwrhzs25Zy"
      },
      "source": [
        "X_test=data_test.iloc[:,4]"
      ],
      "execution_count": 52,
      "outputs": []
    },
    {
      "cell_type": "code",
      "metadata": {
        "colab": {
          "base_uri": "https://localhost:8080/"
        },
        "id": "J3LzesUt28tW",
        "outputId": "04f67f11-34d7-4b3e-aca3-7ea9d388f04a"
      },
      "source": [
        "##preprocessing the test dataset\n",
        "for i in range(0,len(X_test)):\n",
        "    temp=X_test[i]\n",
        "    temp=re.sub(\"@\\S+\", \" \", temp)\n",
        "    temp=re.sub(\"https*\\S+\", \" \", temp)\n",
        "    temp=re.sub(\"#\\S+\", \" \", temp)\n",
        "    temp=re.sub(\"\\'\\w+\", '', temp)\n",
        "    temp=re.sub('[%s]' % re.escape(string.punctuation), ' ', temp)\n",
        "    temp=re.sub(r'\\w*\\d+\\w*', '', temp)\n",
        "    temp=re.sub('\\s{2,}', \" \", temp)\n",
        "    X_test[i]=temp\n",
        "    ##print(temp)"
      ],
      "execution_count": 53,
      "outputs": [
        {
          "output_type": "stream",
          "text": [
            "/usr/local/lib/python3.7/dist-packages/ipykernel_launcher.py:11: SettingWithCopyWarning: \n",
            "A value is trying to be set on a copy of a slice from a DataFrame\n",
            "\n",
            "See the caveats in the documentation: https://pandas.pydata.org/pandas-docs/stable/user_guide/indexing.html#returning-a-view-versus-a-copy\n",
            "  # This is added back by InteractiveShellApp.init_path()\n"
          ],
          "name": "stderr"
        }
      ]
    },
    {
      "cell_type": "code",
      "metadata": {
        "id": "5sz37NLf3CJ0"
      },
      "source": [
        "final_result=[]"
      ],
      "execution_count": 54,
      "outputs": []
    },
    {
      "cell_type": "code",
      "metadata": {
        "id": "dpYN352r3EiV"
      },
      "source": [
        "for i in range(0,len(X_test)):\n",
        "    text=[X_test[i]]\n",
        "    text=tokenizer.texts_to_sequences(text)\n",
        "    text=pad_sequences(text,maxlen=max_length,padding='post')\n",
        "    predict_result=model.predict(text)\n",
        "    result=np.argmax(predict_result,axis=1)\n",
        "    if(result==0):\n",
        "        final_result.append('Negative')\n",
        "    elif(result==1):\n",
        "        final_result.append('Neutral')\n",
        "    elif(result==2):\n",
        "        final_result.append('Positive')\n",
        "    "
      ],
      "execution_count": 55,
      "outputs": []
    },
    {
      "cell_type": "code",
      "metadata": {
        "id": "xbpNh4DYaw_R"
      },
      "source": [
        "actual_result=data_test.iloc[:,5]"
      ],
      "execution_count": 56,
      "outputs": []
    },
    {
      "cell_type": "code",
      "metadata": {
        "colab": {
          "base_uri": "https://localhost:8080/"
        },
        "id": "fzBQFuw5zFtR",
        "outputId": "b1678869-ab9c-4996-a244-57784a0deb68"
      },
      "source": [
        "type(actual_result)"
      ],
      "execution_count": 57,
      "outputs": [
        {
          "output_type": "execute_result",
          "data": {
            "text/plain": [
              "pandas.core.series.Series"
            ]
          },
          "metadata": {},
          "execution_count": 57
        }
      ]
    },
    {
      "cell_type": "code",
      "metadata": {
        "colab": {
          "base_uri": "https://localhost:8080/"
        },
        "id": "ClcySUCbzHeN",
        "outputId": "6280226f-b26b-49cf-c385-c64b88b48c83"
      },
      "source": [
        "#  Plotting the confusion matrix to check for accuracy\n",
        "confusion_matrix(actual_result,final_result, labels=['Negative','Positive','Neutral'])"
      ],
      "execution_count": 58,
      "outputs": [
        {
          "output_type": "execute_result",
          "data": {
            "text/plain": [
              "array([[1324,  253,   56],\n",
              "       [ 130, 1380,   36],\n",
              "       [  57,   88,  474]])"
            ]
          },
          "metadata": {},
          "execution_count": 58
        }
      ]
    },
    {
      "cell_type": "markdown",
      "metadata": {
        "id": "ztOXmLGE0TDG"
      },
      "source": [
        ""
      ]
    }
  ]
}